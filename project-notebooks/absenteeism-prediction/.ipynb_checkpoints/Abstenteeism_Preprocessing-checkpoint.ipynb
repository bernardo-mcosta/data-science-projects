{
 "cells": [
  {
   "cell_type": "markdown",
   "metadata": {},
   "source": [
    "# Absenteeism at work"
   ]
  },
  {
   "cell_type": "markdown",
   "metadata": {},
   "source": [
    "## Overview"
   ]
  },
  {
   "cell_type": "markdown",
   "metadata": {},
   "source": [
    "The task proposed is to create a model which can predict how likely it is for an employee to be absent from work during normal working hours, given some inputs. In order to achieve this goal, data regarding characteristics of employees along with past absenteeism information is provided.\n",
    "\n",
    "This notebook consists of the preprocessing section to create a cleaned .csv file containing the data which will be later used on the processing part, that is, the actual creation of the model"
   ]
  },
  {
   "cell_type": "markdown",
   "metadata": {},
   "source": [
    "## Importing the relevant libraries"
   ]
  },
  {
   "cell_type": "code",
   "execution_count": 1,
   "metadata": {
    "ExecuteTime": {
     "end_time": "2020-12-10T22:31:34.522477Z",
     "start_time": "2020-12-10T22:31:33.664481Z"
    }
   },
   "outputs": [],
   "source": [
    "import pandas as pd"
   ]
  },
  {
   "cell_type": "markdown",
   "metadata": {},
   "source": [
    "## Preprocessing"
   ]
  },
  {
   "cell_type": "code",
   "execution_count": 2,
   "metadata": {
    "ExecuteTime": {
     "end_time": "2020-12-10T22:31:34.542481Z",
     "start_time": "2020-12-10T22:31:34.526480Z"
    }
   },
   "outputs": [],
   "source": [
    "# Importing the data and creating a backup variable before manipulating\n",
    "raw_data = pd.read_csv('Absenteeism-data.csv')\n",
    "df = raw_data.copy()"
   ]
  },
  {
   "cell_type": "markdown",
   "metadata": {},
   "source": [
    "There is a total of 11 columns in the provided dataset, 9 of which are characteristics of employees which seem to be relevant factors on predicting if one is expected to be away from work, such as reasons for absence, distance to work, number of kids, pets and others. There is also an ID column which distincts one employee from another and the last one which presents how long the given employee has been absent from work in the past. "
   ]
  },
  {
   "cell_type": "code",
   "execution_count": 3,
   "metadata": {
    "ExecuteTime": {
     "end_time": "2020-12-10T22:31:34.581481Z",
     "start_time": "2020-12-10T22:31:34.547479Z"
    }
   },
   "outputs": [
    {
     "name": "stdout",
     "output_type": "stream",
     "text": [
      "<class 'pandas.core.frame.DataFrame'>\n",
      "RangeIndex: 700 entries, 0 to 699\n",
      "Data columns (total 12 columns):\n",
      " #   Column                     Non-Null Count  Dtype  \n",
      "---  ------                     --------------  -----  \n",
      " 0   ID                         700 non-null    int64  \n",
      " 1   Reason for Absence         700 non-null    int64  \n",
      " 2   Date                       700 non-null    object \n",
      " 3   Transportation Expense     700 non-null    int64  \n",
      " 4   Distance to Work           700 non-null    int64  \n",
      " 5   Age                        700 non-null    int64  \n",
      " 6   Daily Work Load Average    700 non-null    float64\n",
      " 7   Body Mass Index            700 non-null    int64  \n",
      " 8   Education                  700 non-null    int64  \n",
      " 9   Children                   700 non-null    int64  \n",
      " 10  Pets                       700 non-null    int64  \n",
      " 11  Absenteeism Time in Hours  700 non-null    int64  \n",
      "dtypes: float64(1), int64(10), object(1)\n",
      "memory usage: 65.8+ KB\n"
     ]
    }
   ],
   "source": [
    "# Checking for general info and missing values\n",
    "pd.set_option('display.max_rows', None)\n",
    "pd.set_option('display.max_columns', None)\n",
    "\n",
    "df.info()"
   ]
  },
  {
   "cell_type": "code",
   "execution_count": 4,
   "metadata": {
    "ExecuteTime": {
     "end_time": "2020-12-10T22:31:34.592481Z",
     "start_time": "2020-12-10T22:31:34.585480Z"
    }
   },
   "outputs": [],
   "source": [
    "# Dropping ID, since does not provides relevant information to the model\n",
    "df = df.drop(['ID'],axis=1)"
   ]
  },
  {
   "cell_type": "markdown",
   "metadata": {},
   "source": [
    "The feature 'Reason for Absence' has 28 possible values representing different given explanations be away from work and it's only possible to have one of them. Therefore, this is a categorical data and requires some dummy variables. Age will also be treated as a categorical data on this problem so later it may be grouped by ranges. "
   ]
  },
  {
   "cell_type": "code",
   "execution_count": 5,
   "metadata": {
    "ExecuteTime": {
     "end_time": "2020-12-10T22:31:34.609479Z",
     "start_time": "2020-12-10T22:31:34.596480Z"
    }
   },
   "outputs": [],
   "source": [
    "# Creating dummies for categorical data\n",
    "# Dropping the first column to avoid issues with multicolinearity\n",
    "reasons_dummies = pd.get_dummies(df['Reason for Absence'], drop_first = True)\n",
    "age_dummies = pd.get_dummies(df['Age'], drop_first = True)\n",
    "\n",
    "# Dropping the original 'Reason for Absence' and 'Age' in the Data Frame, which will no longer be useful\n",
    "df = df.drop(['Reason for Absence', 'Age'], axis = 1)"
   ]
  },
  {
   "cell_type": "markdown",
   "metadata": {},
   "source": [
    "## Classifying the data"
   ]
  },
  {
   "cell_type": "markdown",
   "metadata": {},
   "source": [
    "The file 'reasons_for_absenteeism.png' describes the 28 possible reasons for absenteeism. It's evident that some of them are quite similar and could be grouped by different topics. It's a good idea to do so, thus avoiding creating too many dummy variables which would add unnecessary complexity to the model. The same idea also applies to the age of the employees. \n",
    "<br/><br/>\n",
    "The groups for 'Reason for Absence' are the following:\n",
    "<br/><br/>\n",
    "0 -> Unkown reasons, which was dropped when creating dummy variables and works as the parameter for the model\n",
    "\n",
    "1-14 -> Disease related\n",
    "\n",
    "15-17 -> Pregnancy related\n",
    "\n",
    "18-21 -> Poisoning and injuries \n",
    "\n",
    "22-28 -> Light diseases and medical apointments\n",
    "\n",
    "<br/><br/>\n",
    "The age groups proposed are:\n",
    "<br/><br/>\n",
    "27 - 32 years\n",
    "\n",
    "33 - 39 years\n",
    "\n",
    "40 - 47 years\n",
    "\n",
    "48 - 58 years"
   ]
  },
  {
   "cell_type": "code",
   "execution_count": 6,
   "metadata": {
    "ExecuteTime": {
     "end_time": "2020-12-10T22:31:34.632482Z",
     "start_time": "2020-12-10T22:31:34.612480Z"
    }
   },
   "outputs": [],
   "source": [
    "# Since we're interested if at least one of the reasons for absence within a group was present.\n",
    "# we use .max(), wich basically will group all columns values into 1 if at \n",
    "# least one of them is present for the given employee or 0 if not\n",
    "\n",
    "reasons_group_1 = reasons_dummies.loc[:,1:14].max(axis=1)\n",
    "reasons_group_2 = reasons_dummies.loc[:,15:17].max(axis=1)\n",
    "reasons_group_3 = reasons_dummies.loc[:,18:21].max(axis=1)\n",
    "reasons_group_4 = reasons_dummies.loc[:,22:28].max(axis=1)\n",
    "\n",
    "age_group_1 = age_dummies.loc[:,27:32].max(axis=1)\n",
    "age_group_2 = age_dummies.loc[:,33:39].max(axis=1)\n",
    "age_group_3 = age_dummies.loc[:,40:47].max(axis=1)\n",
    "age_group_4 = age_dummies.loc[:,48:58].max(axis=1)"
   ]
  },
  {
   "cell_type": "code",
   "execution_count": 7,
   "metadata": {
    "ExecuteTime": {
     "end_time": "2020-12-10T22:31:34.653481Z",
     "start_time": "2020-12-10T22:31:34.637480Z"
    }
   },
   "outputs": [],
   "source": [
    "# Mergint the creeated dummies with the dataset we're using\n",
    "df_concat = pd.concat([df,reasons_group_1, reasons_group_2, reasons_group_3, reasons_group_4, \n",
    "                       age_group_1, age_group_2, age_group_3, age_group_4],axis =1)"
   ]
  },
  {
   "cell_type": "code",
   "execution_count": 8,
   "metadata": {
    "ExecuteTime": {
     "end_time": "2020-12-10T22:31:34.667481Z",
     "start_time": "2020-12-10T22:31:34.661481Z"
    }
   },
   "outputs": [],
   "source": [
    "# Renaming the dummy variable columns\n",
    "columns_values = ['Date', 'Transportation Expense', 'Distance to Work',\n",
    "                  'Daily Work Load Average', 'Body Mass Index', 'Education',\n",
    "                  'Children', 'Pets', 'Absenteeism Time in Hours', \n",
    "                  'Reasons_1', 'Reasons_2', 'Reasons_3', 'Reasons_4', \n",
    "                  'Age_1', 'Age_2', 'Age_3', 'Age_4']\n",
    "df_concat.columns = columns_values"
   ]
  },
  {
   "cell_type": "code",
   "execution_count": 9,
   "metadata": {
    "ExecuteTime": {
     "end_time": "2020-12-10T22:31:34.677482Z",
     "start_time": "2020-12-10T22:31:34.672481Z"
    }
   },
   "outputs": [],
   "source": [
    "# Creating a checkpoint\n",
    "df_checkpoint = df_concat.copy()"
   ]
  },
  {
   "cell_type": "markdown",
   "metadata": {},
   "source": [
    "## Modifying the Date information"
   ]
  },
  {
   "cell_type": "markdown",
   "metadata": {},
   "source": [
    "The provided dataset contains information on when the given employee was absent, which could also be a good predictor. Perhaps the odds of absenteeism could be greater during some days of the week or months.  To make use of this information, the date information needs to be split into these categories."
   ]
  },
  {
   "cell_type": "code",
   "execution_count": 10,
   "metadata": {
    "ExecuteTime": {
     "end_time": "2020-12-10T22:31:34.696480Z",
     "start_time": "2020-12-10T22:31:34.681479Z"
    }
   },
   "outputs": [],
   "source": [
    "# Converting the 'Date' column into the suitable format\n",
    "df_checkpoint['Date'] = pd.to_datetime(df_checkpoint['Date'],format = '%d/%m/%Y')"
   ]
  },
  {
   "cell_type": "code",
   "execution_count": 11,
   "metadata": {
    "ExecuteTime": {
     "end_time": "2020-12-10T22:31:34.709481Z",
     "start_time": "2020-12-10T22:31:34.699481Z"
    }
   },
   "outputs": [],
   "source": [
    "def week_day(date_value):\n",
    "    return date_value.weekday()\n",
    "\n",
    "def get_month(date_value):\n",
    "    return date_value.month  "
   ]
  },
  {
   "cell_type": "code",
   "execution_count": 12,
   "metadata": {
    "ExecuteTime": {
     "end_time": "2020-12-10T22:31:34.736481Z",
     "start_time": "2020-12-10T22:31:34.712481Z"
    }
   },
   "outputs": [],
   "source": [
    "# Extracting the day of the week and month into another column and dropping 'Date', which isn't useful anymore\n",
    "df_checkpoint['Week Day'] = df_checkpoint['Date'].apply(week_day)\n",
    "df_checkpoint['Month'] = df_checkpoint['Date'].apply(get_month)\n",
    "df_checkpoint = df_checkpoint.drop(['Date'], axis=1)"
   ]
  },
  {
   "cell_type": "code",
   "execution_count": 13,
   "metadata": {
    "ExecuteTime": {
     "end_time": "2020-12-10T22:31:34.748480Z",
     "start_time": "2020-12-10T22:31:34.739480Z"
    }
   },
   "outputs": [],
   "source": [
    "# Reordering the columns\n",
    "columns_values = ['Reasons_1', 'Reasons_2', 'Reasons_3', 'Reasons_4','Week Day', 'Month',\n",
    "                  'Transportation Expense', 'Distance to Work',\n",
    "                  'Daily Work Load Average', 'Body Mass Index', 'Education',\n",
    "                  'Children', 'Pets', 'Age_1', 'Age_2', 'Age_3', 'Age_4',\n",
    "                  'Absenteeism Time in Hours']\n",
    "df_checkpoint = df_checkpoint[columns_values]"
   ]
  },
  {
   "cell_type": "code",
   "execution_count": 21,
   "metadata": {
    "ExecuteTime": {
     "end_time": "2020-12-10T22:31:49.693049Z",
     "start_time": "2020-12-10T22:31:49.688027Z"
    }
   },
   "outputs": [],
   "source": [
    "# Creating a checkpoint\n",
    "df_date_mod = df_checkpoint.copy()"
   ]
  },
  {
   "cell_type": "markdown",
   "metadata": {},
   "source": [
    "## Approaching the 'Education' feature"
   ]
  },
  {
   "cell_type": "markdown",
   "metadata": {},
   "source": [
    "We're checking if the education level could be a good predictor of absenteeism. There are four categories regarding education:\n",
    "\n",
    "\n",
    "1 = High School \n",
    "\n",
    "2 = Graduate \n",
    "\n",
    "3 = Post Graduate \n",
    "\n",
    "4 = Master or Doctor"
   ]
  },
  {
   "cell_type": "code",
   "execution_count": 23,
   "metadata": {
    "ExecuteTime": {
     "end_time": "2020-12-10T22:32:34.288672Z",
     "start_time": "2020-12-10T22:32:34.279670Z"
    }
   },
   "outputs": [
    {
     "data": {
      "text/plain": [
       "1    583\n",
       "3     73\n",
       "2     40\n",
       "4      4\n",
       "Name: Education, dtype: int64"
      ]
     },
     "execution_count": 23,
     "metadata": {},
     "output_type": "execute_result"
    }
   ],
   "source": [
    "df_date_mod['Education'].value_counts()"
   ]
  },
  {
   "cell_type": "markdown",
   "metadata": {},
   "source": [
    "The 3 higher education levels samples are too smal by itself and wouldn't probally be relevant to the model by their own. It makes sense to group them."
   ]
  },
  {
   "cell_type": "code",
   "execution_count": 16,
   "metadata": {
    "ExecuteTime": {
     "end_time": "2020-12-10T22:31:34.798482Z",
     "start_time": "2020-12-10T22:31:34.786483Z"
    }
   },
   "outputs": [],
   "source": [
    "df_date_mod['Education'] = df_date_mod['Education'].map({1:0, 2:1 ,3:1, 4:1})"
   ]
  },
  {
   "cell_type": "code",
   "execution_count": 17,
   "metadata": {
    "ExecuteTime": {
     "end_time": "2020-12-10T22:31:34.814479Z",
     "start_time": "2020-12-10T22:31:34.802481Z"
    }
   },
   "outputs": [
    {
     "data": {
      "text/plain": [
       "0    583\n",
       "1    117\n",
       "Name: Education, dtype: int64"
      ]
     },
     "execution_count": 17,
     "metadata": {},
     "output_type": "execute_result"
    }
   ],
   "source": [
    "df_date_mod['Education'].value_counts()"
   ]
  },
  {
   "cell_type": "code",
   "execution_count": 18,
   "metadata": {
    "ExecuteTime": {
     "end_time": "2020-12-10T22:31:34.821481Z",
     "start_time": "2020-12-10T22:31:34.817479Z"
    }
   },
   "outputs": [],
   "source": [
    "# Creating a checkpoint\n",
    "df_preprocessed = df_date_mod.copy()"
   ]
  },
  {
   "cell_type": "markdown",
   "metadata": {},
   "source": [
    "## Final checkpoint"
   ]
  },
  {
   "cell_type": "code",
   "execution_count": 19,
   "metadata": {
    "ExecuteTime": {
     "end_time": "2020-12-10T22:31:34.831479Z",
     "start_time": "2020-12-10T22:31:34.826478Z"
    }
   },
   "outputs": [],
   "source": [
    "# df_preprocessed.to_csv('Absenteeism_preprocessed.csv', index=False)"
   ]
  }
 ],
 "metadata": {
  "kernelspec": {
   "display_name": "Python 3",
   "language": "python",
   "name": "python3"
  },
  "language_info": {
   "codemirror_mode": {
    "name": "ipython",
    "version": 3
   },
   "file_extension": ".py",
   "mimetype": "text/x-python",
   "name": "python",
   "nbconvert_exporter": "python",
   "pygments_lexer": "ipython3",
   "version": "3.8.5"
  },
  "toc": {
   "base_numbering": 1,
   "nav_menu": {},
   "number_sections": true,
   "sideBar": true,
   "skip_h1_title": false,
   "title_cell": "Table of Contents",
   "title_sidebar": "Contents",
   "toc_cell": false,
   "toc_position": {},
   "toc_section_display": true,
   "toc_window_display": false
  }
 },
 "nbformat": 4,
 "nbformat_minor": 4
}

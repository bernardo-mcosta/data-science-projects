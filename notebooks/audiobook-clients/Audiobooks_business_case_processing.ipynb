{
 "cells": [
  {
   "cell_type": "markdown",
   "metadata": {},
   "source": [
    "# Audiobooks business case"
   ]
  },
  {
   "cell_type": "markdown",
   "metadata": {},
   "source": [
    "## Overview"
   ]
  },
  {
   "cell_type": "markdown",
   "metadata": {},
   "source": [
    "This is a Machine Learning problem wich consists on estimating the likelihood of an audiobook customer making another purchase (conversion), given past purchases and usage information. If a potential recurring customer can be identified, marketing campaings can be more effectively by focusing efforts and resources to these clients.  \n",
    "\n",
    "We were given a raw .csv file  which needs to processed in order to extrac relevant data to build the model. Our file represents 2 years of past user engagement data and a final column indicating if any purchase was made by the customer in the following 6 months after that period. In other words, past data contains the inputs and purchase info is the target of the model.\n",
    "\n",
    "The present notebook uses the files created in the previous preprocessing notebook to build, train and test the model. "
   ]
  },
  {
   "cell_type": "markdown",
   "metadata": {},
   "source": [
    "## Creating the algorithm"
   ]
  },
  {
   "cell_type": "markdown",
   "metadata": {},
   "source": [
    "### Importing libraries"
   ]
  },
  {
   "cell_type": "code",
   "execution_count": 1,
   "metadata": {
    "ExecuteTime": {
     "end_time": "2020-12-09T17:46:03.988137Z",
     "start_time": "2020-12-09T17:46:00.570828Z"
    }
   },
   "outputs": [],
   "source": [
    "import numpy as np\n",
    "import tensorflow as tf"
   ]
  },
  {
   "cell_type": "markdown",
   "metadata": {},
   "source": [
    "### Import the data"
   ]
  },
  {
   "cell_type": "code",
   "execution_count": 2,
   "metadata": {
    "ExecuteTime": {
     "end_time": "2020-12-09T17:46:04.016678Z",
     "start_time": "2020-12-09T17:46:03.998139Z"
    }
   },
   "outputs": [],
   "source": [
    "# Using a temporary variable 'npz' to store the data\n",
    "\n",
    "npz = np.load('Audiobooks_data_train.npz')\n",
    "train_inputs = npz['inputs'].astype(np.float)\n",
    "train_targets = npz['targets'].astype(np.int)\n",
    "\n",
    "npz = np.load('Audiobooks_data_valid.npz')\n",
    "valid_inputs = npz['inputs'].astype(np.float)\n",
    "valid_targets = npz['targets'].astype(np.int)\n",
    "\n",
    "npz = np.load('Audiobooks_data_test.npz')\n",
    "test_inputs = npz['inputs'].astype(np.float)\n",
    "test_targets = npz['targets'].astype(np.int)"
   ]
  },
  {
   "cell_type": "markdown",
   "metadata": {},
   "source": [
    "### Building the model"
   ]
  },
  {
   "cell_type": "markdown",
   "metadata": {},
   "source": [
    "Here the model is built, while the hyperparameters, width and length of the model are set. The values here were tweaked in order to improve the model accuracy during testing."
   ]
  },
  {
   "cell_type": "code",
   "execution_count": 3,
   "metadata": {
    "ExecuteTime": {
     "end_time": "2020-12-09T17:46:08.318778Z",
     "start_time": "2020-12-09T17:46:04.019669Z"
    }
   },
   "outputs": [
    {
     "name": "stdout",
     "output_type": "stream",
     "text": [
      "Epoch 1/100\n",
      "72/72 - 0s - loss: 0.4761 - accuracy: 0.7505 - val_loss: 0.4509 - val_accuracy: 0.7293\n",
      "Epoch 2/100\n",
      "72/72 - 0s - loss: 0.4148 - accuracy: 0.7793 - val_loss: 0.4242 - val_accuracy: 0.7405\n",
      "Epoch 3/100\n",
      "72/72 - 0s - loss: 0.3865 - accuracy: 0.7932 - val_loss: 0.4047 - val_accuracy: 0.7696\n",
      "Epoch 4/100\n",
      "72/72 - 0s - loss: 0.3724 - accuracy: 0.8005 - val_loss: 0.4243 - val_accuracy: 0.7517\n",
      "Epoch 5/100\n",
      "72/72 - 0s - loss: 0.3762 - accuracy: 0.7977 - val_loss: 0.4086 - val_accuracy: 0.7494\n",
      "Epoch 6/100\n",
      "72/72 - 0s - loss: 0.3718 - accuracy: 0.7991 - val_loss: 0.4021 - val_accuracy: 0.7494\n",
      "Epoch 7/100\n",
      "72/72 - 0s - loss: 0.3640 - accuracy: 0.8108 - val_loss: 0.4069 - val_accuracy: 0.7718\n",
      "Epoch 8/100\n",
      "72/72 - 0s - loss: 0.3594 - accuracy: 0.8103 - val_loss: 0.3890 - val_accuracy: 0.7629\n",
      "Epoch 9/100\n",
      "72/72 - 0s - loss: 0.3631 - accuracy: 0.7980 - val_loss: 0.4094 - val_accuracy: 0.7696\n",
      "Epoch 10/100\n",
      "72/72 - 0s - loss: 0.3612 - accuracy: 0.8044 - val_loss: 0.4008 - val_accuracy: 0.7539\n",
      "Epoch 11/100\n",
      "72/72 - 0s - loss: 0.3523 - accuracy: 0.8131 - val_loss: 0.3804 - val_accuracy: 0.7808\n",
      "Epoch 12/100\n",
      "72/72 - 0s - loss: 0.3578 - accuracy: 0.8089 - val_loss: 0.4056 - val_accuracy: 0.7584\n",
      "Epoch 13/100\n",
      "72/72 - 0s - loss: 0.3547 - accuracy: 0.8055 - val_loss: 0.3974 - val_accuracy: 0.7740\n",
      "Epoch 14/100\n",
      "72/72 - 0s - loss: 0.3532 - accuracy: 0.8161 - val_loss: 0.3883 - val_accuracy: 0.7673\n"
     ]
    },
    {
     "data": {
      "text/plain": [
       "<tensorflow.python.keras.callbacks.History at 0x2956fd64888>"
      ]
     },
     "execution_count": 3,
     "metadata": {},
     "output_type": "execute_result"
    }
   ],
   "source": [
    "# Setting the hyperparameters\n",
    "output_size = 2\n",
    "hidden_layer_size = 200\n",
    "batch_size = 50\n",
    "epochs = 100\n",
    "\n",
    "# Outlining the model layout\n",
    "model = tf.keras.Sequential([\n",
    "    tf.keras.layers.Dense(hidden_layer_size, activation='relu'),\n",
    "    tf.keras.layers.Dense(hidden_layer_size, activation='relu'),\n",
    "    tf.keras.layers.Dense(hidden_layer_size, activation='relu'),\n",
    "    tf.keras.layers.Dense(hidden_layer_size, activation='relu'),\n",
    "    tf.keras.layers.Dense(output_size, activation='softmax')\n",
    "])\n",
    "\n",
    "# Defining the objective function (optimizer) and loss function\n",
    "model.compile(optimizer = 'adam', loss = 'sparse_categorical_crossentropy', metrics = ['accuracy'])\n",
    "\n",
    "# Setting an early stopping mechanism\n",
    "early_stop = tf.keras.callbacks.EarlyStopping(patience=3)\n",
    "\n",
    "# Fitting the model\n",
    "model.fit(\n",
    "    train_inputs,\n",
    "    train_targets,\n",
    "    batch_size = batch_size,\n",
    "    epochs = epochs,\n",
    "    callbacks = early_stop,\n",
    "    validation_data = (valid_inputs,valid_targets),\n",
    "    verbose = 2\n",
    ")"
   ]
  },
  {
   "cell_type": "markdown",
   "metadata": {},
   "source": [
    "## Testing the model"
   ]
  },
  {
   "cell_type": "code",
   "execution_count": 5,
   "metadata": {
    "ExecuteTime": {
     "end_time": "2020-12-09T17:52:28.675840Z",
     "start_time": "2020-12-09T17:52:28.566483Z"
    }
   },
   "outputs": [
    {
     "name": "stdout",
     "output_type": "stream",
     "text": [
      "\n",
      "Test loss: 0.33. \n",
      "Test accuracy: 81.92%\n"
     ]
    }
   ],
   "source": [
    "test_loss, test_accuracy = model.evaluate(test_inputs, test_targets, verbose=0)\n",
    "print('\\nTest loss: {0:.2f}. \\nTest accuracy: {1:.2f}%'.format(test_loss, test_accuracy*100.))"
   ]
  },
  {
   "cell_type": "markdown",
   "metadata": {},
   "source": [
    "## Takeaway"
   ]
  },
  {
   "cell_type": "markdown",
   "metadata": {},
   "source": [
    "The model achieved an accuracy of roughly 82%. In other words, out of 10 customers, it could correctly figure out if 8 of them would convert again, based on their past data. It's a remarkable result, which could translate to better cost allocation on marketing campaings. "
   ]
  }
 ],
 "metadata": {
  "kernelspec": {
   "display_name": "Python [conda env:py3-TF2]",
   "language": "python",
   "name": "conda-env-py3-TF2-py"
  },
  "language_info": {
   "codemirror_mode": {
    "name": "ipython",
    "version": 3
   },
   "file_extension": ".py",
   "mimetype": "text/x-python",
   "name": "python",
   "nbconvert_exporter": "python",
   "pygments_lexer": "ipython3",
   "version": "3.7.9"
  },
  "toc": {
   "base_numbering": 1,
   "nav_menu": {},
   "number_sections": true,
   "sideBar": true,
   "skip_h1_title": false,
   "title_cell": "Table of Contents",
   "title_sidebar": "Contents",
   "toc_cell": false,
   "toc_position": {},
   "toc_section_display": true,
   "toc_window_display": false
  }
 },
 "nbformat": 4,
 "nbformat_minor": 4
}

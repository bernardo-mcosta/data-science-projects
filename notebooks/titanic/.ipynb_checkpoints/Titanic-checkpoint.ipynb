{
 "cells": [
  {
   "cell_type": "code",
   "execution_count": 14,
   "metadata": {
    "executionInfo": {
     "elapsed": 752,
     "status": "ok",
     "timestamp": 1608247556856,
     "user": {
      "displayName": "Bernardo Costa",
      "photoUrl": "https://lh3.googleusercontent.com/a-/AOh14GhIUSup0zeTXEySOZPkAaw0K6Yhwwl7FfFrOzTC_bQ=s64",
      "userId": "08543559093626801139"
     },
     "user_tz": 180
    },
    "id": "fbmKJLnJ9BRu"
   },
   "outputs": [],
   "source": [
    "import numpy as np\n",
    "import pandas as pd \n",
    "import seaborn as sns\n",
    "import matplotlib.pyplot as plt\n",
    "sns.set()"
   ]
  },
  {
   "cell_type": "markdown",
   "metadata": {
    "id": "QM1JnEUFZ2ge"
   },
   "source": [
    "## Importing the dataset"
   ]
  },
  {
   "cell_type": "code",
   "execution_count": 2,
   "metadata": {
    "colab": {
     "base_uri": "https://localhost:8080/",
     "height": 204
    },
    "executionInfo": {
     "elapsed": 1665,
     "status": "ok",
     "timestamp": 1608247541852,
     "user": {
      "displayName": "Bernardo Costa",
      "photoUrl": "https://lh3.googleusercontent.com/a-/AOh14GhIUSup0zeTXEySOZPkAaw0K6Yhwwl7FfFrOzTC_bQ=s64",
      "userId": "08543559093626801139"
     },
     "user_tz": 180
    },
    "id": "YoyFySJn9F7k",
    "outputId": "a0c631c0-98eb-4ea0-ab39-bee2fd563b16"
   },
   "outputs": [
    {
     "data": {
      "text/html": [
       "<div>\n",
       "<style scoped>\n",
       "    .dataframe tbody tr th:only-of-type {\n",
       "        vertical-align: middle;\n",
       "    }\n",
       "\n",
       "    .dataframe tbody tr th {\n",
       "        vertical-align: top;\n",
       "    }\n",
       "\n",
       "    .dataframe thead th {\n",
       "        text-align: right;\n",
       "    }\n",
       "</style>\n",
       "<table border=\"1\" class=\"dataframe\">\n",
       "  <thead>\n",
       "    <tr style=\"text-align: right;\">\n",
       "      <th></th>\n",
       "      <th>PassengerId</th>\n",
       "      <th>Survived</th>\n",
       "      <th>Pclass</th>\n",
       "      <th>Name</th>\n",
       "      <th>Sex</th>\n",
       "      <th>Age</th>\n",
       "      <th>SibSp</th>\n",
       "      <th>Parch</th>\n",
       "      <th>Ticket</th>\n",
       "      <th>Fare</th>\n",
       "      <th>Cabin</th>\n",
       "      <th>Embarked</th>\n",
       "    </tr>\n",
       "  </thead>\n",
       "  <tbody>\n",
       "    <tr>\n",
       "      <th>0</th>\n",
       "      <td>1</td>\n",
       "      <td>0</td>\n",
       "      <td>3</td>\n",
       "      <td>Braund, Mr. Owen Harris</td>\n",
       "      <td>male</td>\n",
       "      <td>22.0</td>\n",
       "      <td>1</td>\n",
       "      <td>0</td>\n",
       "      <td>A/5 21171</td>\n",
       "      <td>7.2500</td>\n",
       "      <td>NaN</td>\n",
       "      <td>S</td>\n",
       "    </tr>\n",
       "    <tr>\n",
       "      <th>1</th>\n",
       "      <td>2</td>\n",
       "      <td>1</td>\n",
       "      <td>1</td>\n",
       "      <td>Cumings, Mrs. John Bradley (Florence Briggs Th...</td>\n",
       "      <td>female</td>\n",
       "      <td>38.0</td>\n",
       "      <td>1</td>\n",
       "      <td>0</td>\n",
       "      <td>PC 17599</td>\n",
       "      <td>71.2833</td>\n",
       "      <td>C85</td>\n",
       "      <td>C</td>\n",
       "    </tr>\n",
       "    <tr>\n",
       "      <th>2</th>\n",
       "      <td>3</td>\n",
       "      <td>1</td>\n",
       "      <td>3</td>\n",
       "      <td>Heikkinen, Miss. Laina</td>\n",
       "      <td>female</td>\n",
       "      <td>26.0</td>\n",
       "      <td>0</td>\n",
       "      <td>0</td>\n",
       "      <td>STON/O2. 3101282</td>\n",
       "      <td>7.9250</td>\n",
       "      <td>NaN</td>\n",
       "      <td>S</td>\n",
       "    </tr>\n",
       "    <tr>\n",
       "      <th>3</th>\n",
       "      <td>4</td>\n",
       "      <td>1</td>\n",
       "      <td>1</td>\n",
       "      <td>Futrelle, Mrs. Jacques Heath (Lily May Peel)</td>\n",
       "      <td>female</td>\n",
       "      <td>35.0</td>\n",
       "      <td>1</td>\n",
       "      <td>0</td>\n",
       "      <td>113803</td>\n",
       "      <td>53.1000</td>\n",
       "      <td>C123</td>\n",
       "      <td>S</td>\n",
       "    </tr>\n",
       "    <tr>\n",
       "      <th>4</th>\n",
       "      <td>5</td>\n",
       "      <td>0</td>\n",
       "      <td>3</td>\n",
       "      <td>Allen, Mr. William Henry</td>\n",
       "      <td>male</td>\n",
       "      <td>35.0</td>\n",
       "      <td>0</td>\n",
       "      <td>0</td>\n",
       "      <td>373450</td>\n",
       "      <td>8.0500</td>\n",
       "      <td>NaN</td>\n",
       "      <td>S</td>\n",
       "    </tr>\n",
       "  </tbody>\n",
       "</table>\n",
       "</div>"
      ],
      "text/plain": [
       "   PassengerId  Survived  Pclass  ...     Fare Cabin  Embarked\n",
       "0            1         0       3  ...   7.2500   NaN         S\n",
       "1            2         1       1  ...  71.2833   C85         C\n",
       "2            3         1       3  ...   7.9250   NaN         S\n",
       "3            4         1       1  ...  53.1000  C123         S\n",
       "4            5         0       3  ...   8.0500   NaN         S\n",
       "\n",
       "[5 rows x 12 columns]"
      ]
     },
     "execution_count": 2,
     "metadata": {
      "tags": []
     },
     "output_type": "execute_result"
    }
   ],
   "source": [
    "data_train = pd.read_csv('train.csv')\n",
    "data_test = pd.read_csv('test.csv')\n",
    "data_train.head()"
   ]
  },
  {
   "cell_type": "code",
   "execution_count": 3,
   "metadata": {
    "executionInfo": {
     "elapsed": 1644,
     "status": "ok",
     "timestamp": 1608247541853,
     "user": {
      "displayName": "Bernardo Costa",
      "photoUrl": "https://lh3.googleusercontent.com/a-/AOh14GhIUSup0zeTXEySOZPkAaw0K6Yhwwl7FfFrOzTC_bQ=s64",
      "userId": "08543559093626801139"
     },
     "user_tz": 180
    },
    "id": "rRqwca4A-g1D"
   },
   "outputs": [],
   "source": [
    "# Reordering columns, putting the target 'Survived' in the end\n",
    "\n",
    "columns = ['PassengerId', 'Pclass', 'Name', 'Sex', 'Age', 'SibSp',\n",
    "       'Parch', 'Ticket', 'Fare', 'Cabin', 'Embarked', 'Survived']\n",
    "\n",
    "data_train = data_train[columns]"
   ]
  },
  {
   "cell_type": "code",
   "execution_count": 4,
   "metadata": {
    "colab": {
     "base_uri": "https://localhost:8080/",
     "height": 204
    },
    "executionInfo": {
     "elapsed": 1623,
     "status": "ok",
     "timestamp": 1608247541855,
     "user": {
      "displayName": "Bernardo Costa",
      "photoUrl": "https://lh3.googleusercontent.com/a-/AOh14GhIUSup0zeTXEySOZPkAaw0K6Yhwwl7FfFrOzTC_bQ=s64",
      "userId": "08543559093626801139"
     },
     "user_tz": 180
    },
    "id": "9c6Z0cY3Mebe",
    "outputId": "98b6aefa-84f7-4411-9ca0-54d65948400a"
   },
   "outputs": [
    {
     "data": {
      "text/html": [
       "<div>\n",
       "<style scoped>\n",
       "    .dataframe tbody tr th:only-of-type {\n",
       "        vertical-align: middle;\n",
       "    }\n",
       "\n",
       "    .dataframe tbody tr th {\n",
       "        vertical-align: top;\n",
       "    }\n",
       "\n",
       "    .dataframe thead th {\n",
       "        text-align: right;\n",
       "    }\n",
       "</style>\n",
       "<table border=\"1\" class=\"dataframe\">\n",
       "  <thead>\n",
       "    <tr style=\"text-align: right;\">\n",
       "      <th></th>\n",
       "      <th>Pclass</th>\n",
       "      <th>Sex</th>\n",
       "      <th>Age</th>\n",
       "      <th>SibSp</th>\n",
       "      <th>Parch</th>\n",
       "      <th>Fare</th>\n",
       "      <th>Cabin</th>\n",
       "      <th>Embarked</th>\n",
       "      <th>Survived</th>\n",
       "    </tr>\n",
       "  </thead>\n",
       "  <tbody>\n",
       "    <tr>\n",
       "      <th>0</th>\n",
       "      <td>3</td>\n",
       "      <td>male</td>\n",
       "      <td>22.0</td>\n",
       "      <td>1</td>\n",
       "      <td>0</td>\n",
       "      <td>7.2500</td>\n",
       "      <td>NaN</td>\n",
       "      <td>S</td>\n",
       "      <td>0</td>\n",
       "    </tr>\n",
       "    <tr>\n",
       "      <th>1</th>\n",
       "      <td>1</td>\n",
       "      <td>female</td>\n",
       "      <td>38.0</td>\n",
       "      <td>1</td>\n",
       "      <td>0</td>\n",
       "      <td>71.2833</td>\n",
       "      <td>C85</td>\n",
       "      <td>C</td>\n",
       "      <td>1</td>\n",
       "    </tr>\n",
       "    <tr>\n",
       "      <th>2</th>\n",
       "      <td>3</td>\n",
       "      <td>female</td>\n",
       "      <td>26.0</td>\n",
       "      <td>0</td>\n",
       "      <td>0</td>\n",
       "      <td>7.9250</td>\n",
       "      <td>NaN</td>\n",
       "      <td>S</td>\n",
       "      <td>1</td>\n",
       "    </tr>\n",
       "    <tr>\n",
       "      <th>3</th>\n",
       "      <td>1</td>\n",
       "      <td>female</td>\n",
       "      <td>35.0</td>\n",
       "      <td>1</td>\n",
       "      <td>0</td>\n",
       "      <td>53.1000</td>\n",
       "      <td>C123</td>\n",
       "      <td>S</td>\n",
       "      <td>1</td>\n",
       "    </tr>\n",
       "    <tr>\n",
       "      <th>4</th>\n",
       "      <td>3</td>\n",
       "      <td>male</td>\n",
       "      <td>35.0</td>\n",
       "      <td>0</td>\n",
       "      <td>0</td>\n",
       "      <td>8.0500</td>\n",
       "      <td>NaN</td>\n",
       "      <td>S</td>\n",
       "      <td>0</td>\n",
       "    </tr>\n",
       "  </tbody>\n",
       "</table>\n",
       "</div>"
      ],
      "text/plain": [
       "   Pclass     Sex   Age  SibSp  Parch     Fare Cabin Embarked  Survived\n",
       "0       3    male  22.0      1      0   7.2500   NaN        S         0\n",
       "1       1  female  38.0      1      0  71.2833   C85        C         1\n",
       "2       3  female  26.0      0      0   7.9250   NaN        S         1\n",
       "3       1  female  35.0      1      0  53.1000  C123        S         1\n",
       "4       3    male  35.0      0      0   8.0500   NaN        S         0"
      ]
     },
     "execution_count": 4,
     "metadata": {
      "tags": []
     },
     "output_type": "execute_result"
    }
   ],
   "source": [
    "# Name, ID and Ticket are only related to differentiating a passager from another, thus providing no predictive value\n",
    "# They'll now be dropped from the dataset\n",
    "\n",
    "data_test = data_test.drop(['Name', 'PassengerId', 'Ticket'], axis = 1 )\n",
    "data_train = data_train.drop(['Name', 'PassengerId', 'Ticket'], axis = 1 )\n",
    "data_train.head()"
   ]
  },
  {
   "cell_type": "code",
   "execution_count": 5,
   "metadata": {
    "colab": {
     "base_uri": "https://localhost:8080/"
    },
    "executionInfo": {
     "elapsed": 1606,
     "status": "ok",
     "timestamp": 1608247541856,
     "user": {
      "displayName": "Bernardo Costa",
      "photoUrl": "https://lh3.googleusercontent.com/a-/AOh14GhIUSup0zeTXEySOZPkAaw0K6Yhwwl7FfFrOzTC_bQ=s64",
      "userId": "08543559093626801139"
     },
     "user_tz": 180
    },
    "id": "EUnvuzfnPA1b",
    "outputId": "c01a48ac-9070-41a5-f979-5b540b5073f8"
   },
   "outputs": [
    {
     "name": "stdout",
     "output_type": "stream",
     "text": [
      "Different cabins: 76\n"
     ]
    }
   ],
   "source": [
    "data_test['Cabin'].unique()\n",
    "print('Different cabins: {}'.format(data_test['Cabin'].nunique()))"
   ]
  },
  {
   "cell_type": "markdown",
   "metadata": {
    "id": "r1yPVJOZPr2b"
   },
   "source": [
    "The number of cabins probally won't add any predictive power to the model, since there are so many different variations. It would most likely only add variation to the model and it would be a good idea do discard it from the analysis, avoiding unnecessary complexity"
   ]
  },
  {
   "cell_type": "code",
   "execution_count": 6,
   "metadata": {
    "executionInfo": {
     "elapsed": 1590,
     "status": "ok",
     "timestamp": 1608247541857,
     "user": {
      "displayName": "Bernardo Costa",
      "photoUrl": "https://lh3.googleusercontent.com/a-/AOh14GhIUSup0zeTXEySOZPkAaw0K6Yhwwl7FfFrOzTC_bQ=s64",
      "userId": "08543559093626801139"
     },
     "user_tz": 180
    },
    "id": "yVIMB2E4PXCX"
   },
   "outputs": [],
   "source": [
    "data_test = data_test.drop(['Cabin'], axis = 1 )\n",
    "data_train = data_train.drop(['Cabin'], axis = 1 )"
   ]
  },
  {
   "cell_type": "markdown",
   "metadata": {
    "id": "FpdvQ8EJZbCd"
   },
   "source": [
    "## Dealing with missing values"
   ]
  },
  {
   "cell_type": "code",
   "execution_count": 7,
   "metadata": {
    "colab": {
     "base_uri": "https://localhost:8080/"
    },
    "executionInfo": {
     "elapsed": 1574,
     "status": "ok",
     "timestamp": 1608247541858,
     "user": {
      "displayName": "Bernardo Costa",
      "photoUrl": "https://lh3.googleusercontent.com/a-/AOh14GhIUSup0zeTXEySOZPkAaw0K6Yhwwl7FfFrOzTC_bQ=s64",
      "userId": "08543559093626801139"
     },
     "user_tz": 180
    },
    "id": "sE8gCAHeQHT6",
    "outputId": "407d7f87-b855-4d39-a59d-8edc816c6dcb"
   },
   "outputs": [
    {
     "name": "stdout",
     "output_type": "stream",
     "text": [
      "<class 'pandas.core.frame.DataFrame'>\n",
      "RangeIndex: 891 entries, 0 to 890\n",
      "Data columns (total 8 columns):\n",
      " #   Column    Non-Null Count  Dtype  \n",
      "---  ------    --------------  -----  \n",
      " 0   Pclass    891 non-null    int64  \n",
      " 1   Sex       891 non-null    object \n",
      " 2   Age       714 non-null    float64\n",
      " 3   SibSp     891 non-null    int64  \n",
      " 4   Parch     891 non-null    int64  \n",
      " 5   Fare      891 non-null    float64\n",
      " 6   Embarked  889 non-null    object \n",
      " 7   Survived  891 non-null    int64  \n",
      "dtypes: float64(2), int64(4), object(2)\n",
      "memory usage: 55.8+ KB\n"
     ]
    }
   ],
   "source": [
    "# Checking general information\n",
    "data_train.info()"
   ]
  },
  {
   "cell_type": "markdown",
   "metadata": {
    "id": "auGGJOw3Qx70"
   },
   "source": [
    "There's some missing information in the dataset. There's a total of 891 entries, but two of them don't have the 'Embarked' info. We can simply discard those, since this small number is almost insignificant when compared to the total number of entries. \n",
    "\n",
    "However, there are 177 missing 'Age' entries and we have to deal with this issue. A good approach is to assign the mean age value, or even better, assign random age values that are close the the mean. "
   ]
  },
  {
   "cell_type": "code",
   "execution_count": 8,
   "metadata": {
    "executionInfo": {
     "elapsed": 1555,
     "status": "ok",
     "timestamp": 1608247541860,
     "user": {
      "displayName": "Bernardo Costa",
      "photoUrl": "https://lh3.googleusercontent.com/a-/AOh14GhIUSup0zeTXEySOZPkAaw0K6Yhwwl7FfFrOzTC_bQ=s64",
      "userId": "08543559093626801139"
     },
     "user_tz": 180
    },
    "id": "V_WjYyHsQRpi"
   },
   "outputs": [],
   "source": [
    "# Discarding the missing 'Embark' info\n",
    "data_train = data_train[data_train['Embarked'].notna()]\n",
    "\n",
    "# Dealing with missing age values\n",
    "age_mean = data_train['Age'].mean()\n",
    "age_std = data_train['Age'].std()\n",
    "missing_age = data_train['Age'].isnull().sum()\n",
    "\n",
    "random_age = np.random.randint(age_mean - age_std, age_mean + age_std, missing_age)\n",
    "ages = data_train['Age'].copy()\n",
    "ages[np.isnan(ages)] = random_age\n",
    "data_train['Age'] = ages\n",
    "data_train['Age'] = data_train['Age'].astype(int)"
   ]
  },
  {
   "cell_type": "code",
   "execution_count": 9,
   "metadata": {
    "colab": {
     "base_uri": "https://localhost:8080/"
    },
    "executionInfo": {
     "elapsed": 1904,
     "status": "ok",
     "timestamp": 1608247542226,
     "user": {
      "displayName": "Bernardo Costa",
      "photoUrl": "https://lh3.googleusercontent.com/a-/AOh14GhIUSup0zeTXEySOZPkAaw0K6Yhwwl7FfFrOzTC_bQ=s64",
      "userId": "08543559093626801139"
     },
     "user_tz": 180
    },
    "id": "M2PUq-7TSnek",
    "outputId": "65249d1e-95ef-4c00-cc83-e0a338162d33"
   },
   "outputs": [
    {
     "name": "stdout",
     "output_type": "stream",
     "text": [
      "<class 'pandas.core.frame.DataFrame'>\n",
      "RangeIndex: 418 entries, 0 to 417\n",
      "Data columns (total 7 columns):\n",
      " #   Column    Non-Null Count  Dtype  \n",
      "---  ------    --------------  -----  \n",
      " 0   Pclass    418 non-null    int64  \n",
      " 1   Sex       418 non-null    object \n",
      " 2   Age       332 non-null    float64\n",
      " 3   SibSp     418 non-null    int64  \n",
      " 4   Parch     418 non-null    int64  \n",
      " 5   Fare      417 non-null    float64\n",
      " 6   Embarked  418 non-null    object \n",
      "dtypes: float64(2), int64(3), object(2)\n",
      "memory usage: 23.0+ KB\n"
     ]
    }
   ],
   "source": [
    "data_test.info()"
   ]
  },
  {
   "cell_type": "markdown",
   "metadata": {
    "id": "INBx0A3kXY9n"
   },
   "source": [
    "Our test data  has the same issue of missing age information and we'll do the same process here. Also, there's one 'Fare' data missing. Since we must have exactly 418 entries to evaluate the model, we can't simply discard it and thus we'll assign the mean value to it. "
   ]
  },
  {
   "cell_type": "code",
   "execution_count": 10,
   "metadata": {
    "executionInfo": {
     "elapsed": 1889,
     "status": "ok",
     "timestamp": 1608247542227,
     "user": {
      "displayName": "Bernardo Costa",
      "photoUrl": "https://lh3.googleusercontent.com/a-/AOh14GhIUSup0zeTXEySOZPkAaw0K6Yhwwl7FfFrOzTC_bQ=s64",
      "userId": "08543559093626801139"
     },
     "user_tz": 180
    },
    "id": "AI28ZxYdXIKb"
   },
   "outputs": [],
   "source": [
    "# Dealing with missing age values\n",
    "age_mean = data_test['Age'].mean()\n",
    "age_std = data_test['Age'].std()\n",
    "missing_age = data_test['Age'].isnull().sum()\n",
    "\n",
    "random_age = np.random.randint(age_mean - age_std, age_mean + age_std, missing_age)\n",
    "ages = data_test['Age'].copy()\n",
    "ages[np.isnan(ages)] = random_age\n",
    "data_test['Age'] = ages\n",
    "data_test['Age'] = data_test['Age'].astype(int)\n",
    "\n",
    "# Dealing with missing Fare valye\n",
    "fare = data_test['Fare'].copy()\n",
    "fare[np.isnan(fare)] = fare.mean()\n",
    "data_test['Fare'] = fare"
   ]
  },
  {
   "cell_type": "markdown",
   "metadata": {
    "id": "8r1ATkHZZtBD"
   },
   "source": [
    "## Exploring the data"
   ]
  },
  {
   "cell_type": "markdown",
   "metadata": {
    "id": "5BWqpVlHai7j"
   },
   "source": [
    "Here we'll explore the dataset a bit and see if we can draw some insights from it. First we'll check how gender can be used to determine if someone survives or not."
   ]
  },
  {
   "cell_type": "markdown",
   "metadata": {},
   "source": [
    "### Sex"
   ]
  },
  {
   "cell_type": "code",
   "execution_count": 11,
   "metadata": {
    "colab": {
     "base_uri": "https://localhost:8080/"
    },
    "executionInfo": {
     "elapsed": 1873,
     "status": "ok",
     "timestamp": 1608247542227,
     "user": {
      "displayName": "Bernardo Costa",
      "photoUrl": "https://lh3.googleusercontent.com/a-/AOh14GhIUSup0zeTXEySOZPkAaw0K6Yhwwl7FfFrOzTC_bQ=s64",
      "userId": "08543559093626801139"
     },
     "user_tz": 180
    },
    "id": "8BQGgj2b_zlz",
    "outputId": "ce87c22a-0611-4af8-d37f-e2f077e428cc"
   },
   "outputs": [
    {
     "name": "stdout",
     "output_type": "stream",
     "text": [
      "74.04% of all women survived\n",
      "18.89% of all men survived\n"
     ]
    }
   ],
   "source": [
    "women = data_train.loc[data_train.Sex == 'female']['Survived']\n",
    "men = data_train.loc[data_train.Sex == 'male']['Survived']\n",
    "\n",
    "women_surv = sum(women)/len(women)\n",
    "men_surv = sum(men)/len(men)\n",
    "\n",
    "\n",
    "print('{:.2%} of all women survived'.format(women_surv))\n",
    "print('{:.2%} of all men survived'.format(men_surv))"
   ]
  },
  {
   "cell_type": "markdown",
   "metadata": {
    "id": "lzkoIIZ2a6Vp"
   },
   "source": [
    "This makes a lot of sense, considering women and children have preference when occupying the life saving boats. Hence, we could also infer that younger people would show a higher rate of survival. "
   ]
  },
  {
   "cell_type": "markdown",
   "metadata": {},
   "source": [
    "### Age"
   ]
  },
  {
   "cell_type": "code",
   "execution_count": 32,
   "metadata": {
    "colab": {
     "base_uri": "https://localhost:8080/",
     "height": 372
    },
    "executionInfo": {
     "elapsed": 1340,
     "status": "ok",
     "timestamp": 1608248515222,
     "user": {
      "displayName": "Bernardo Costa",
      "photoUrl": "https://lh3.googleusercontent.com/a-/AOh14GhIUSup0zeTXEySOZPkAaw0K6Yhwwl7FfFrOzTC_bQ=s64",
      "userId": "08543559093626801139"
     },
     "user_tz": 180
    },
    "id": "GtJk43NkbVGJ",
    "outputId": "f8e88475-3ce7-406f-b9d6-3dd641801098"
   },
   "outputs": [
    {
     "data": {
      "text/plain": [
       "<matplotlib.legend.Legend at 0x7f089800b898>"
      ]
     },
     "execution_count": 32,
     "metadata": {
      "tags": []
     },
     "output_type": "execute_result"
    },
    {
     "data": {
      "image/png": "[encoded data removed]",
      "text/plain": [
       "<Figure size 720x360 with 1 Axes>"
      ]
     },
     "metadata": {
      "tags": []
     },
     "output_type": "display_data"
    }
   ],
   "source": [
    "survived = data_train[data_train['Survived'] == 1]\n",
    "\n",
    "fig, axes = plt.subplots(figsize = (10,5))\n",
    "g = sns.histplot(survived['Age'], binwidth = 5, label = 'Survived', color ='navy')\n",
    "g = sns.histplot(data_train['Age'], binwidth = 5, label = 'Total')\n",
    "plt.title('Survived by age')\n",
    "plt.legend()"
   ]
  },
  {
   "cell_type": "markdown",
   "metadata": {
    "id": "DWXEKslDCuET"
   },
   "source": [
    "The above plot is a great way to have an idea about how age relates to survival chances. Each bar represents an age group of 5 years. The darker color are the ones who survived and the lighter is the total number from that group. This means that the fueler each bar is, more people at that age survived. \n",
    "\n",
    "From that we can see that young children had indeed higher chances of surviving."
   ]
  },
  {
   "cell_type": "code",
   "execution_count": null,
   "metadata": {
    "id": "F_5W8niJDRtq"
   },
   "outputs": [],
   "source": []
  }
 ],
 "metadata": {
  "colab": {
   "authorship_tag": "ABX9TyPzMKaR31azNKU7/UO+jVQV",
   "mount_file_id": "174rjuwRABlX6aSuxdpo1jKyFjbLPo2Xz",
   "name": "Titanic.ipynb",
   "provenance": []
  },
  "kernelspec": {
   "display_name": "Python 3",
   "language": "python",
   "name": "python3"
  },
  "language_info": {
   "codemirror_mode": {
    "name": "ipython",
    "version": 3
   },
   "file_extension": ".py",
   "mimetype": "text/x-python",
   "name": "python",
   "nbconvert_exporter": "python",
   "pygments_lexer": "ipython3",
   "version": "3.8.5"
  },
  "toc": {
   "base_numbering": 1,
   "nav_menu": {},
   "number_sections": true,
   "sideBar": true,
   "skip_h1_title": false,
   "title_cell": "Table of Contents",
   "title_sidebar": "Contents",
   "toc_cell": false,
   "toc_position": {},
   "toc_section_display": true,
   "toc_window_display": false
  }
 },
 "nbformat": 4,
 "nbformat_minor": 1
}

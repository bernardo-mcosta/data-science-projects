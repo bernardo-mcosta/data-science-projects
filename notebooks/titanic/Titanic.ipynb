{
 "cells": [
  {
   "cell_type": "markdown",
   "metadata": {},
   "source": [
    "## Importing the relevant libraries"
   ]
  },
  {
   "cell_type": "code",
   "execution_count": 1,
   "metadata": {
    "ExecuteTime": {
     "end_time": "2020-12-20T20:00:51.926120Z",
     "start_time": "2020-12-20T20:00:49.865678Z"
    },
    "executionInfo": {
     "elapsed": 752,
     "status": "ok",
     "timestamp": 1608247556856,
     "user": {
      "displayName": "Bernardo Costa",
      "photoUrl": "https://lh3.googleusercontent.com/a-/AOh14GhIUSup0zeTXEySOZPkAaw0K6Yhwwl7FfFrOzTC_bQ=s64",
      "userId": "08543559093626801139"
     },
     "user_tz": 180
    },
    "id": "fbmKJLnJ9BRu"
   },
   "outputs": [],
   "source": [
    "import numpy as np\n",
    "import pandas as pd \n",
    "import seaborn as sns\n",
    "import matplotlib.pyplot as plt\n",
    "sns.set()"
   ]
  },
  {
   "cell_type": "markdown",
   "metadata": {
    "id": "QM1JnEUFZ2ge"
   },
   "source": [
    "## Importing the dataset"
   ]
  },
  {
   "cell_type": "code",
   "execution_count": 2,
   "metadata": {
    "ExecuteTime": {
     "end_time": "2020-12-20T20:00:51.970756Z",
     "start_time": "2020-12-20T20:00:51.930074Z"
    },
    "colab": {
     "base_uri": "https://localhost:8080/",
     "height": 204
    },
    "executionInfo": {
     "elapsed": 1665,
     "status": "ok",
     "timestamp": 1608247541852,
     "user": {
      "displayName": "Bernardo Costa",
      "photoUrl": "https://lh3.googleusercontent.com/a-/AOh14GhIUSup0zeTXEySOZPkAaw0K6Yhwwl7FfFrOzTC_bQ=s64",
      "userId": "08543559093626801139"
     },
     "user_tz": 180
    },
    "id": "YoyFySJn9F7k",
    "outputId": "a0c631c0-98eb-4ea0-ab39-bee2fd563b16"
   },
   "outputs": [
    {
     "data": {
      "text/html": [
       "<div>\n",
       "<style scoped>\n",
       "    .dataframe tbody tr th:only-of-type {\n",
       "        vertical-align: middle;\n",
       "    }\n",
       "\n",
       "    .dataframe tbody tr th {\n",
       "        vertical-align: top;\n",
       "    }\n",
       "\n",
       "    .dataframe thead th {\n",
       "        text-align: right;\n",
       "    }\n",
       "</style>\n",
       "<table border=\"1\" class=\"dataframe\">\n",
       "  <thead>\n",
       "    <tr style=\"text-align: right;\">\n",
       "      <th></th>\n",
       "      <th>PassengerId</th>\n",
       "      <th>Survived</th>\n",
       "      <th>Pclass</th>\n",
       "      <th>Name</th>\n",
       "      <th>Sex</th>\n",
       "      <th>Age</th>\n",
       "      <th>SibSp</th>\n",
       "      <th>Parch</th>\n",
       "      <th>Ticket</th>\n",
       "      <th>Fare</th>\n",
       "      <th>Cabin</th>\n",
       "      <th>Embarked</th>\n",
       "    </tr>\n",
       "  </thead>\n",
       "  <tbody>\n",
       "    <tr>\n",
       "      <th>0</th>\n",
       "      <td>1</td>\n",
       "      <td>0</td>\n",
       "      <td>3</td>\n",
       "      <td>Braund, Mr. Owen Harris</td>\n",
       "      <td>male</td>\n",
       "      <td>22.0</td>\n",
       "      <td>1</td>\n",
       "      <td>0</td>\n",
       "      <td>A/5 21171</td>\n",
       "      <td>7.2500</td>\n",
       "      <td>NaN</td>\n",
       "      <td>S</td>\n",
       "    </tr>\n",
       "    <tr>\n",
       "      <th>1</th>\n",
       "      <td>2</td>\n",
       "      <td>1</td>\n",
       "      <td>1</td>\n",
       "      <td>Cumings, Mrs. John Bradley (Florence Briggs Th...</td>\n",
       "      <td>female</td>\n",
       "      <td>38.0</td>\n",
       "      <td>1</td>\n",
       "      <td>0</td>\n",
       "      <td>PC 17599</td>\n",
       "      <td>71.2833</td>\n",
       "      <td>C85</td>\n",
       "      <td>C</td>\n",
       "    </tr>\n",
       "    <tr>\n",
       "      <th>2</th>\n",
       "      <td>3</td>\n",
       "      <td>1</td>\n",
       "      <td>3</td>\n",
       "      <td>Heikkinen, Miss. Laina</td>\n",
       "      <td>female</td>\n",
       "      <td>26.0</td>\n",
       "      <td>0</td>\n",
       "      <td>0</td>\n",
       "      <td>STON/O2. 3101282</td>\n",
       "      <td>7.9250</td>\n",
       "      <td>NaN</td>\n",
       "      <td>S</td>\n",
       "    </tr>\n",
       "    <tr>\n",
       "      <th>3</th>\n",
       "      <td>4</td>\n",
       "      <td>1</td>\n",
       "      <td>1</td>\n",
       "      <td>Futrelle, Mrs. Jacques Heath (Lily May Peel)</td>\n",
       "      <td>female</td>\n",
       "      <td>35.0</td>\n",
       "      <td>1</td>\n",
       "      <td>0</td>\n",
       "      <td>113803</td>\n",
       "      <td>53.1000</td>\n",
       "      <td>C123</td>\n",
       "      <td>S</td>\n",
       "    </tr>\n",
       "    <tr>\n",
       "      <th>4</th>\n",
       "      <td>5</td>\n",
       "      <td>0</td>\n",
       "      <td>3</td>\n",
       "      <td>Allen, Mr. William Henry</td>\n",
       "      <td>male</td>\n",
       "      <td>35.0</td>\n",
       "      <td>0</td>\n",
       "      <td>0</td>\n",
       "      <td>373450</td>\n",
       "      <td>8.0500</td>\n",
       "      <td>NaN</td>\n",
       "      <td>S</td>\n",
       "    </tr>\n",
       "  </tbody>\n",
       "</table>\n",
       "</div>"
      ],
      "text/plain": [
       "   PassengerId  Survived  Pclass  \\\n",
       "0            1         0       3   \n",
       "1            2         1       1   \n",
       "2            3         1       3   \n",
       "3            4         1       1   \n",
       "4            5         0       3   \n",
       "\n",
       "                                                Name     Sex   Age  SibSp  \\\n",
       "0                            Braund, Mr. Owen Harris    male  22.0      1   \n",
       "1  Cumings, Mrs. John Bradley (Florence Briggs Th...  female  38.0      1   \n",
       "2                             Heikkinen, Miss. Laina  female  26.0      0   \n",
       "3       Futrelle, Mrs. Jacques Heath (Lily May Peel)  female  35.0      1   \n",
       "4                           Allen, Mr. William Henry    male  35.0      0   \n",
       "\n",
       "   Parch            Ticket     Fare Cabin Embarked  \n",
       "0      0         A/5 21171   7.2500   NaN        S  \n",
       "1      0          PC 17599  71.2833   C85        C  \n",
       "2      0  STON/O2. 3101282   7.9250   NaN        S  \n",
       "3      0            113803  53.1000  C123        S  \n",
       "4      0            373450   8.0500   NaN        S  "
      ]
     },
     "execution_count": 2,
     "metadata": {},
     "output_type": "execute_result"
    }
   ],
   "source": [
    "data_train_raw = pd.read_csv('train.csv')\n",
    "data_test_raw = pd.read_csv('test.csv')\n",
    "data_train_raw.head()"
   ]
  },
  {
   "cell_type": "code",
   "execution_count": 3,
   "metadata": {
    "ExecuteTime": {
     "end_time": "2020-12-20T20:00:51.981737Z",
     "start_time": "2020-12-20T20:00:51.973739Z"
    },
    "executionInfo": {
     "elapsed": 1644,
     "status": "ok",
     "timestamp": 1608247541853,
     "user": {
      "displayName": "Bernardo Costa",
      "photoUrl": "https://lh3.googleusercontent.com/a-/AOh14GhIUSup0zeTXEySOZPkAaw0K6Yhwwl7FfFrOzTC_bQ=s64",
      "userId": "08543559093626801139"
     },
     "user_tz": 180
    },
    "id": "rRqwca4A-g1D"
   },
   "outputs": [],
   "source": [
    "# Reordering columns, putting the target 'Survived' in the end\n",
    "\n",
    "columns = ['PassengerId', 'Pclass', 'Name', 'Sex', 'Age', 'SibSp',\n",
    "       'Parch', 'Ticket', 'Fare', 'Cabin', 'Embarked', 'Survived']\n",
    "\n",
    "data_train_raw = data_train_raw[columns]"
   ]
  },
  {
   "cell_type": "code",
   "execution_count": 4,
   "metadata": {
    "ExecuteTime": {
     "end_time": "2020-12-20T20:00:52.009741Z",
     "start_time": "2020-12-20T20:00:51.985740Z"
    },
    "colab": {
     "base_uri": "https://localhost:8080/",
     "height": 204
    },
    "executionInfo": {
     "elapsed": 1623,
     "status": "ok",
     "timestamp": 1608247541855,
     "user": {
      "displayName": "Bernardo Costa",
      "photoUrl": "https://lh3.googleusercontent.com/a-/AOh14GhIUSup0zeTXEySOZPkAaw0K6Yhwwl7FfFrOzTC_bQ=s64",
      "userId": "08543559093626801139"
     },
     "user_tz": 180
    },
    "id": "9c6Z0cY3Mebe",
    "outputId": "98b6aefa-84f7-4411-9ca0-54d65948400a"
   },
   "outputs": [
    {
     "data": {
      "text/html": [
       "<div>\n",
       "<style scoped>\n",
       "    .dataframe tbody tr th:only-of-type {\n",
       "        vertical-align: middle;\n",
       "    }\n",
       "\n",
       "    .dataframe tbody tr th {\n",
       "        vertical-align: top;\n",
       "    }\n",
       "\n",
       "    .dataframe thead th {\n",
       "        text-align: right;\n",
       "    }\n",
       "</style>\n",
       "<table border=\"1\" class=\"dataframe\">\n",
       "  <thead>\n",
       "    <tr style=\"text-align: right;\">\n",
       "      <th></th>\n",
       "      <th>Pclass</th>\n",
       "      <th>Sex</th>\n",
       "      <th>Age</th>\n",
       "      <th>SibSp</th>\n",
       "      <th>Parch</th>\n",
       "      <th>Fare</th>\n",
       "      <th>Cabin</th>\n",
       "      <th>Embarked</th>\n",
       "      <th>Survived</th>\n",
       "    </tr>\n",
       "  </thead>\n",
       "  <tbody>\n",
       "    <tr>\n",
       "      <th>0</th>\n",
       "      <td>3</td>\n",
       "      <td>male</td>\n",
       "      <td>22.0</td>\n",
       "      <td>1</td>\n",
       "      <td>0</td>\n",
       "      <td>7.2500</td>\n",
       "      <td>NaN</td>\n",
       "      <td>S</td>\n",
       "      <td>0</td>\n",
       "    </tr>\n",
       "    <tr>\n",
       "      <th>1</th>\n",
       "      <td>1</td>\n",
       "      <td>female</td>\n",
       "      <td>38.0</td>\n",
       "      <td>1</td>\n",
       "      <td>0</td>\n",
       "      <td>71.2833</td>\n",
       "      <td>C85</td>\n",
       "      <td>C</td>\n",
       "      <td>1</td>\n",
       "    </tr>\n",
       "    <tr>\n",
       "      <th>2</th>\n",
       "      <td>3</td>\n",
       "      <td>female</td>\n",
       "      <td>26.0</td>\n",
       "      <td>0</td>\n",
       "      <td>0</td>\n",
       "      <td>7.9250</td>\n",
       "      <td>NaN</td>\n",
       "      <td>S</td>\n",
       "      <td>1</td>\n",
       "    </tr>\n",
       "    <tr>\n",
       "      <th>3</th>\n",
       "      <td>1</td>\n",
       "      <td>female</td>\n",
       "      <td>35.0</td>\n",
       "      <td>1</td>\n",
       "      <td>0</td>\n",
       "      <td>53.1000</td>\n",
       "      <td>C123</td>\n",
       "      <td>S</td>\n",
       "      <td>1</td>\n",
       "    </tr>\n",
       "    <tr>\n",
       "      <th>4</th>\n",
       "      <td>3</td>\n",
       "      <td>male</td>\n",
       "      <td>35.0</td>\n",
       "      <td>0</td>\n",
       "      <td>0</td>\n",
       "      <td>8.0500</td>\n",
       "      <td>NaN</td>\n",
       "      <td>S</td>\n",
       "      <td>0</td>\n",
       "    </tr>\n",
       "  </tbody>\n",
       "</table>\n",
       "</div>"
      ],
      "text/plain": [
       "   Pclass     Sex   Age  SibSp  Parch     Fare Cabin Embarked  Survived\n",
       "0       3    male  22.0      1      0   7.2500   NaN        S         0\n",
       "1       1  female  38.0      1      0  71.2833   C85        C         1\n",
       "2       3  female  26.0      0      0   7.9250   NaN        S         1\n",
       "3       1  female  35.0      1      0  53.1000  C123        S         1\n",
       "4       3    male  35.0      0      0   8.0500   NaN        S         0"
      ]
     },
     "execution_count": 4,
     "metadata": {},
     "output_type": "execute_result"
    }
   ],
   "source": [
    "# Name, ID and Ticket are only related to differentiating a passager from another, thus providing no predictive value\n",
    "# They'll now be dropped from the dataset\n",
    "\n",
    "data_test = data_test_raw.drop(['Name', 'PassengerId', 'Ticket'], axis = 1 )\n",
    "data_train = data_train_raw.drop(['Name', 'PassengerId', 'Ticket'], axis = 1 )\n",
    "data_train.head()"
   ]
  },
  {
   "cell_type": "code",
   "execution_count": 5,
   "metadata": {
    "ExecuteTime": {
     "end_time": "2020-12-20T20:00:52.022740Z",
     "start_time": "2020-12-20T20:00:52.013739Z"
    },
    "colab": {
     "base_uri": "https://localhost:8080/"
    },
    "executionInfo": {
     "elapsed": 1606,
     "status": "ok",
     "timestamp": 1608247541856,
     "user": {
      "displayName": "Bernardo Costa",
      "photoUrl": "https://lh3.googleusercontent.com/a-/AOh14GhIUSup0zeTXEySOZPkAaw0K6Yhwwl7FfFrOzTC_bQ=s64",
      "userId": "08543559093626801139"
     },
     "user_tz": 180
    },
    "id": "EUnvuzfnPA1b",
    "outputId": "c01a48ac-9070-41a5-f979-5b540b5073f8"
   },
   "outputs": [
    {
     "name": "stdout",
     "output_type": "stream",
     "text": [
      "Different cabins: 76\n"
     ]
    }
   ],
   "source": [
    "data_test['Cabin'].unique()\n",
    "print('Different cabins: {}'.format(data_test['Cabin'].nunique()))"
   ]
  },
  {
   "cell_type": "markdown",
   "metadata": {
    "id": "r1yPVJOZPr2b"
   },
   "source": [
    "The number of cabins probally won't add any predictive power to the model, since there are so many different variations. It would most likely only add variation to the model and it would be a good idea do discard it from the analysis, avoiding unnecessary complexity"
   ]
  },
  {
   "cell_type": "code",
   "execution_count": 6,
   "metadata": {
    "ExecuteTime": {
     "end_time": "2020-12-20T20:00:52.037737Z",
     "start_time": "2020-12-20T20:00:52.025738Z"
    },
    "executionInfo": {
     "elapsed": 1590,
     "status": "ok",
     "timestamp": 1608247541857,
     "user": {
      "displayName": "Bernardo Costa",
      "photoUrl": "https://lh3.googleusercontent.com/a-/AOh14GhIUSup0zeTXEySOZPkAaw0K6Yhwwl7FfFrOzTC_bQ=s64",
      "userId": "08543559093626801139"
     },
     "user_tz": 180
    },
    "id": "yVIMB2E4PXCX"
   },
   "outputs": [],
   "source": [
    "data_test = data_test.drop(['Cabin'], axis = 1 )\n",
    "data_train = data_train.drop(['Cabin'], axis = 1 )"
   ]
  },
  {
   "cell_type": "markdown",
   "metadata": {
    "heading_collapsed": true,
    "id": "FpdvQ8EJZbCd"
   },
   "source": [
    "## Dealing with missing values"
   ]
  },
  {
   "cell_type": "code",
   "execution_count": 7,
   "metadata": {
    "ExecuteTime": {
     "end_time": "2020-12-20T20:00:52.060741Z",
     "start_time": "2020-12-20T20:00:52.042742Z"
    },
    "colab": {
     "base_uri": "https://localhost:8080/"
    },
    "executionInfo": {
     "elapsed": 1574,
     "status": "ok",
     "timestamp": 1608247541858,
     "user": {
      "displayName": "Bernardo Costa",
      "photoUrl": "https://lh3.googleusercontent.com/a-/AOh14GhIUSup0zeTXEySOZPkAaw0K6Yhwwl7FfFrOzTC_bQ=s64",
      "userId": "08543559093626801139"
     },
     "user_tz": 180
    },
    "hidden": true,
    "id": "sE8gCAHeQHT6",
    "outputId": "407d7f87-b855-4d39-a59d-8edc816c6dcb"
   },
   "outputs": [
    {
     "name": "stdout",
     "output_type": "stream",
     "text": [
      "<class 'pandas.core.frame.DataFrame'>\n",
      "RangeIndex: 891 entries, 0 to 890\n",
      "Data columns (total 8 columns):\n",
      " #   Column    Non-Null Count  Dtype  \n",
      "---  ------    --------------  -----  \n",
      " 0   Pclass    891 non-null    int64  \n",
      " 1   Sex       891 non-null    object \n",
      " 2   Age       714 non-null    float64\n",
      " 3   SibSp     891 non-null    int64  \n",
      " 4   Parch     891 non-null    int64  \n",
      " 5   Fare      891 non-null    float64\n",
      " 6   Embarked  889 non-null    object \n",
      " 7   Survived  891 non-null    int64  \n",
      "dtypes: float64(2), int64(4), object(2)\n",
      "memory usage: 55.8+ KB\n"
     ]
    }
   ],
   "source": [
    "# Checking general information\n",
    "data_train.info()"
   ]
  },
  {
   "cell_type": "markdown",
   "metadata": {
    "hidden": true,
    "id": "auGGJOw3Qx70"
   },
   "source": [
    "There's some missing information in the dataset. There's a total of 891 entries, but two of them don't have the 'Embarked' info. We can simply discard those, since this small number is almost insignificant when compared to the total number of entries. \n",
    "\n",
    "However, there are 177 missing 'Age' entries and we have to deal with this issue. A good approach is to assign the mean age value, or even better, assign random age values that are close the the mean. "
   ]
  },
  {
   "cell_type": "code",
   "execution_count": 8,
   "metadata": {
    "ExecuteTime": {
     "end_time": "2020-12-20T20:00:52.084735Z",
     "start_time": "2020-12-20T20:00:52.066739Z"
    },
    "executionInfo": {
     "elapsed": 1555,
     "status": "ok",
     "timestamp": 1608247541860,
     "user": {
      "displayName": "Bernardo Costa",
      "photoUrl": "https://lh3.googleusercontent.com/a-/AOh14GhIUSup0zeTXEySOZPkAaw0K6Yhwwl7FfFrOzTC_bQ=s64",
      "userId": "08543559093626801139"
     },
     "user_tz": 180
    },
    "hidden": true,
    "id": "V_WjYyHsQRpi"
   },
   "outputs": [],
   "source": [
    "# Discarding the missing 'Embark' info\n",
    "data_train = data_train[data_train['Embarked'].notna()]\n",
    "\n",
    "# Dealing with missing age values\n",
    "age_mean = data_train['Age'].mean()\n",
    "age_std = data_train['Age'].std()\n",
    "missing_age = data_train['Age'].isnull().sum()\n",
    "\n",
    "random_age = np.random.randint(age_mean - age_std, age_mean + age_std, missing_age)\n",
    "ages = data_train['Age'].copy()\n",
    "ages[np.isnan(ages)] = random_age\n",
    "data_train['Age'] = ages\n",
    "data_train['Age'] = data_train['Age'].astype(int)"
   ]
  },
  {
   "cell_type": "code",
   "execution_count": 9,
   "metadata": {
    "ExecuteTime": {
     "end_time": "2020-12-20T20:00:52.104737Z",
     "start_time": "2020-12-20T20:00:52.088740Z"
    },
    "colab": {
     "base_uri": "https://localhost:8080/"
    },
    "executionInfo": {
     "elapsed": 1904,
     "status": "ok",
     "timestamp": 1608247542226,
     "user": {
      "displayName": "Bernardo Costa",
      "photoUrl": "https://lh3.googleusercontent.com/a-/AOh14GhIUSup0zeTXEySOZPkAaw0K6Yhwwl7FfFrOzTC_bQ=s64",
      "userId": "08543559093626801139"
     },
     "user_tz": 180
    },
    "hidden": true,
    "id": "M2PUq-7TSnek",
    "outputId": "65249d1e-95ef-4c00-cc83-e0a338162d33"
   },
   "outputs": [
    {
     "name": "stdout",
     "output_type": "stream",
     "text": [
      "<class 'pandas.core.frame.DataFrame'>\n",
      "RangeIndex: 418 entries, 0 to 417\n",
      "Data columns (total 7 columns):\n",
      " #   Column    Non-Null Count  Dtype  \n",
      "---  ------    --------------  -----  \n",
      " 0   Pclass    418 non-null    int64  \n",
      " 1   Sex       418 non-null    object \n",
      " 2   Age       332 non-null    float64\n",
      " 3   SibSp     418 non-null    int64  \n",
      " 4   Parch     418 non-null    int64  \n",
      " 5   Fare      417 non-null    float64\n",
      " 6   Embarked  418 non-null    object \n",
      "dtypes: float64(2), int64(3), object(2)\n",
      "memory usage: 23.0+ KB\n"
     ]
    }
   ],
   "source": [
    "data_test.info()"
   ]
  },
  {
   "cell_type": "markdown",
   "metadata": {
    "hidden": true,
    "id": "INBx0A3kXY9n"
   },
   "source": [
    "Our test data  has the same issue of missing age information and we'll do the same process here. Also, there's one 'Fare' data missing. Since we must have exactly 418 entries to evaluate the model, we can't simply discard it and thus we'll assign the mean value to it. "
   ]
  },
  {
   "cell_type": "code",
   "execution_count": 10,
   "metadata": {
    "ExecuteTime": {
     "end_time": "2020-12-20T20:00:52.129739Z",
     "start_time": "2020-12-20T20:00:52.108738Z"
    },
    "executionInfo": {
     "elapsed": 1889,
     "status": "ok",
     "timestamp": 1608247542227,
     "user": {
      "displayName": "Bernardo Costa",
      "photoUrl": "https://lh3.googleusercontent.com/a-/AOh14GhIUSup0zeTXEySOZPkAaw0K6Yhwwl7FfFrOzTC_bQ=s64",
      "userId": "08543559093626801139"
     },
     "user_tz": 180
    },
    "hidden": true,
    "id": "AI28ZxYdXIKb"
   },
   "outputs": [],
   "source": [
    "# Dealing with missing age values\n",
    "age_mean = data_test['Age'].mean()\n",
    "age_std = data_test['Age'].std()\n",
    "missing_age = data_test['Age'].isnull().sum()\n",
    "\n",
    "random_age = np.random.randint(age_mean - age_std, age_mean + age_std, missing_age)\n",
    "ages = data_test['Age'].copy()\n",
    "ages[np.isnan(ages)] = random_age\n",
    "data_test['Age'] = ages\n",
    "data_test['Age'] = data_test['Age'].astype(int)\n",
    "\n",
    "# Dealing with missing Fare valye\n",
    "fare = data_test['Fare'].copy()\n",
    "fare[np.isnan(fare)] = fare.mean()\n",
    "data_test['Fare'] = fare"
   ]
  },
  {
   "cell_type": "markdown",
   "metadata": {
    "id": "8r1ATkHZZtBD"
   },
   "source": [
    "## Exploring the data"
   ]
  },
  {
   "cell_type": "markdown",
   "metadata": {
    "id": "5BWqpVlHai7j"
   },
   "source": [
    "Here we'll explore the dataset a bit and see if we can draw some insights from it. First we'll check how gender can be used to determine if someone survives or not."
   ]
  },
  {
   "cell_type": "markdown",
   "metadata": {},
   "source": [
    "### Sex"
   ]
  },
  {
   "cell_type": "code",
   "execution_count": 11,
   "metadata": {
    "ExecuteTime": {
     "end_time": "2020-12-20T20:00:52.149738Z",
     "start_time": "2020-12-20T20:00:52.132738Z"
    },
    "colab": {
     "base_uri": "https://localhost:8080/"
    },
    "executionInfo": {
     "elapsed": 1873,
     "status": "ok",
     "timestamp": 1608247542227,
     "user": {
      "displayName": "Bernardo Costa",
      "photoUrl": "https://lh3.googleusercontent.com/a-/AOh14GhIUSup0zeTXEySOZPkAaw0K6Yhwwl7FfFrOzTC_bQ=s64",
      "userId": "08543559093626801139"
     },
     "user_tz": 180
    },
    "id": "8BQGgj2b_zlz",
    "outputId": "ce87c22a-0611-4af8-d37f-e2f077e428cc"
   },
   "outputs": [
    {
     "name": "stdout",
     "output_type": "stream",
     "text": [
      "74.04% of all women survived\n",
      "18.89% of all men survived\n"
     ]
    }
   ],
   "source": [
    "women = data_train.loc[data_train.Sex == 'female']['Survived']\n",
    "men = data_train.loc[data_train.Sex == 'male']['Survived']\n",
    "\n",
    "women_surv = sum(women)/len(women)\n",
    "men_surv = sum(men)/len(men)\n",
    "\n",
    "\n",
    "print('{:.2%} of all women survived'.format(women_surv))\n",
    "print('{:.2%} of all men survived'.format(men_surv))"
   ]
  },
  {
   "cell_type": "markdown",
   "metadata": {
    "id": "lzkoIIZ2a6Vp"
   },
   "source": [
    "This makes a lot of sense, considering women and children have preference when occupying the life saving boats. Hence, we could also infer that younger people would show a higher rate of survival. "
   ]
  },
  {
   "cell_type": "markdown",
   "metadata": {},
   "source": [
    "### Age"
   ]
  },
  {
   "cell_type": "code",
   "execution_count": 12,
   "metadata": {
    "ExecuteTime": {
     "end_time": "2020-12-20T20:00:52.768745Z",
     "start_time": "2020-12-20T20:00:52.151737Z"
    },
    "colab": {
     "base_uri": "https://localhost:8080/",
     "height": 372
    },
    "executionInfo": {
     "elapsed": 1340,
     "status": "ok",
     "timestamp": 1608248515222,
     "user": {
      "displayName": "Bernardo Costa",
      "photoUrl": "https://lh3.googleusercontent.com/a-/AOh14GhIUSup0zeTXEySOZPkAaw0K6Yhwwl7FfFrOzTC_bQ=s64",
      "userId": "08543559093626801139"
     },
     "user_tz": 180
    },
    "id": "GtJk43NkbVGJ",
    "outputId": "f8e88475-3ce7-406f-b9d6-3dd641801098"
   },
   "outputs": [
    {
     "data": {
      "text/plain": [
       "<matplotlib.legend.Legend at 0x2491b952e50>"
      ]
     },
     "execution_count": 12,
     "metadata": {},
     "output_type": "execute_result"
    },
    {
     "data": {
      "image/png": "[encoded data removed]",
      "text/plain": [
       "<Figure size 720x360 with 1 Axes>"
      ]
     },
     "metadata": {},
     "output_type": "display_data"
    }
   ],
   "source": [
    "survived = data_train[data_train['Survived'] == 1]\n",
    "\n",
    "fig, axes = plt.subplots(figsize = (10,5))\n",
    "g = sns.histplot(survived['Age'], binwidth = 5, label = 'Survived', color ='navy')\n",
    "g = sns.histplot(data_train['Age'], binwidth = 5, label = 'Total')\n",
    "plt.title('Survived by age')\n",
    "plt.legend()"
   ]
  },
  {
   "cell_type": "markdown",
   "metadata": {
    "id": "DWXEKslDCuET"
   },
   "source": [
    "The above plot is a great way to have an idea about how age relates to survival chances. Each bar represents an age group of 5 years. The darker color are the ones who survived and the lighter is the total number from that group. This means that the fueler each bar is, more people at that age survived. \n",
    "\n",
    "From that we can see that young children had indeed higher chances of surviving."
   ]
  },
  {
   "cell_type": "markdown",
   "metadata": {
    "id": "F_5W8niJDRtq"
   },
   "source": [
    "### Passanger Class"
   ]
  },
  {
   "cell_type": "code",
   "execution_count": 13,
   "metadata": {
    "ExecuteTime": {
     "end_time": "2020-12-20T20:00:53.255509Z",
     "start_time": "2020-12-20T20:00:52.770744Z"
    }
   },
   "outputs": [
    {
     "data": {
      "image/png": "[encoded data removed]",
      "text/plain": [
       "<Figure size 720x360 with 1 Axes>"
      ]
     },
     "metadata": {},
     "output_type": "display_data"
    }
   ],
   "source": [
    "fig, axes = plt.subplots(figsize = (10,5))\n",
    "g= sns.barplot(data=data_train, x='Pclass', y='Survived',hue='Sex')\n",
    "g.set(xlabel='Passanger Class', ylabel='Percentage who survived')\n",
    "plt.show()"
   ]
  },
  {
   "cell_type": "markdown",
   "metadata": {},
   "source": [
    "Here's a really interesting insight: nearly every womam from the first and second class survived, while passangers from the third class had the lowest odds of suriving. Keep in mind that the bar plot does not calculate the actual percentage, but the mean of values, which for data exploration close is enough. "
   ]
  },
  {
   "cell_type": "markdown",
   "metadata": {},
   "source": [
    "### Siblings and spouse"
   ]
  },
  {
   "cell_type": "code",
   "execution_count": 14,
   "metadata": {
    "ExecuteTime": {
     "end_time": "2020-12-20T20:00:53.772469Z",
     "start_time": "2020-12-20T20:00:53.259490Z"
    },
    "scrolled": true
   },
   "outputs": [
    {
     "data": {
      "image/png": "[encoded data removed]",
      "text/plain": [
       "<Figure size 720x360 with 1 Axes>"
      ]
     },
     "metadata": {},
     "output_type": "display_data"
    }
   ],
   "source": [
    "fig, axes = plt.subplots(figsize = (10,5))\n",
    "g= sns.barplot(data=data_train, x='SibSp', y='Survived')\n",
    "g.set(xlabel='Number of relativea', ylabel='Percentage who survived')\n",
    "plt.show()"
   ]
  },
  {
   "cell_type": "markdown",
   "metadata": {},
   "source": [
    "People with one relative had higher chances of survival, which decreased as this number increases. Here's how we could interpret this: it's unlikely that people below 20 years were traveling by themselves, so they are probablly with their parents (Nº Relavites > 0). Those with only one relative are probally couples in the majority, which quite interesting enough, had about 50% survival rate, implying that maybe the females survived. \n",
    "\n",
    "The vertical line indicates the error, since the barplot shows the mean value. If there are few observations, we could expect a larget error. "
   ]
  },
  {
   "cell_type": "code",
   "execution_count": 15,
   "metadata": {
    "ExecuteTime": {
     "end_time": "2020-12-20T20:00:54.254927Z",
     "start_time": "2020-12-20T20:00:53.775469Z"
    }
   },
   "outputs": [
    {
     "data": {
      "image/png": "[encoded data removed]",
      "text/plain": [
       "<Figure size 720x360 with 1 Axes>"
      ]
     },
     "metadata": {},
     "output_type": "display_data"
    }
   ],
   "source": [
    "fig, axes = plt.subplots(figsize = (10,5))\n",
    "g= sns.barplot(data=data_train, x='Parch', y='Survived')\n",
    "g.set(xlabel='Number of relativea', ylabel='Percentage who survived')\n",
    "plt.show()"
   ]
  },
  {
   "cell_type": "markdown",
   "metadata": {
    "ExecuteTime": {
     "end_time": "2020-12-19T14:23:47.516990Z",
     "start_time": "2020-12-19T14:23:47.133985Z"
    }
   },
   "source": [
    "### Fare"
   ]
  },
  {
   "cell_type": "code",
   "execution_count": 16,
   "metadata": {
    "ExecuteTime": {
     "end_time": "2020-12-20T20:00:54.627678Z",
     "start_time": "2020-12-20T20:00:54.256906Z"
    }
   },
   "outputs": [
    {
     "data": {
      "image/png": "[encoded data removed]",
      "text/plain": [
       "<Figure size 720x360 with 1 Axes>"
      ]
     },
     "metadata": {},
     "output_type": "display_data"
    }
   ],
   "source": [
    "fig, axes = plt.subplots(figsize = (10,5))\n",
    "\n",
    "# 'Fare' is highly skewed to the right, so we're going to filter some of the outliers for better visualization on the plot below\n",
    "# Removing the top 5% outliers\n",
    "q = data_train['Fare'].quantile(0.95)\n",
    "\n",
    "g = sns.histplot(data_train[data_train['Fare'] < q]['Fare'],binwidth=10)\n",
    "g = sns.histplot(data_train[(data_train['Fare']< q) & (data_train['Survived'] == 1)]['Fare'],binwidth=10)"
   ]
  },
  {
   "cell_type": "markdown",
   "metadata": {},
   "source": [
    "Cheaper fares were more common and had lower surviving rates. However, this information is already contained in the passanger class data, since as noticed earlier, higher and therefore more expensive classes were more likely to present survivors. This means that these two features present multicolinearity and we may drop one of them. "
   ]
  },
  {
   "cell_type": "markdown",
   "metadata": {},
   "source": [
    "### Embarked"
   ]
  },
  {
   "cell_type": "markdown",
   "metadata": {},
   "source": [
    "Those who embarked in Southampton had lower chanced of surviving. Quite interesting, this is also the location where most of the third class passangers embarked, who also had lower surviving rates. "
   ]
  },
  {
   "cell_type": "code",
   "execution_count": 33,
   "metadata": {
    "ExecuteTime": {
     "end_time": "2020-12-20T20:00:55.424880Z",
     "start_time": "2020-12-20T20:00:55.025233Z"
    }
   },
   "outputs": [
    {
     "data": {
      "text/plain": [
       "<AxesSubplot:xlabel='Embarked', ylabel='Survived'>"
      ]
     },
     "execution_count": 33,
     "metadata": {},
     "output_type": "execute_result"
    },
    {
     "data": {
      "image/png": "[encoded data removed]",
      "text/plain": [
       "<Figure size 1080x360 with 2 Axes>"
      ]
     },
     "metadata": {},
     "output_type": "display_data"
    }
   ],
   "source": [
    "f, (ax1, ax2) = plt.subplots(nrows=1, ncols=2, figsize = (15,5))\n",
    "# sns.countplot(data=data_train, x='Embarked', ax=ax1)\n",
    "sns.countplot(data=data_train, x='Embarked', hue='Pclass', ax=ax1)\n",
    "sns.barplot(data=data_train, x='Embarked', y='Survived',ci=None, ax=ax2)"
   ]
  },
  {
   "cell_type": "markdown",
   "metadata": {},
   "source": [
    "## Preparing the model"
   ]
  },
  {
   "cell_type": "code",
   "execution_count": 19,
   "metadata": {
    "ExecuteTime": {
     "end_time": "2020-12-20T20:00:55.431914Z",
     "start_time": "2020-12-20T20:00:55.426878Z"
    }
   },
   "outputs": [],
   "source": [
    "# Checkpoint\n",
    "data_train_1 = data_train.copy()\n",
    "data_test_1 = data_test.copy()"
   ]
  },
  {
   "cell_type": "code",
   "execution_count": 20,
   "metadata": {
    "ExecuteTime": {
     "end_time": "2020-12-20T20:00:55.443900Z",
     "start_time": "2020-12-20T20:00:55.435899Z"
    }
   },
   "outputs": [],
   "source": [
    "# Encoding 'Sex' data\n",
    "data_train_1['Sex'] = data_train_1['Sex'].map({'male':1,'female':0})\n",
    "data_test_1['Sex'] = data_test_1['Sex'].map({'male':1,'female':0})"
   ]
  },
  {
   "cell_type": "markdown",
   "metadata": {},
   "source": [
    "### Creating dummy variables"
   ]
  },
  {
   "cell_type": "code",
   "execution_count": 21,
   "metadata": {
    "ExecuteTime": {
     "end_time": "2020-12-20T20:00:55.468900Z",
     "start_time": "2020-12-20T20:00:55.447902Z"
    }
   },
   "outputs": [],
   "source": [
    "# Encoding 'Embarked'\n",
    "embarked_dummies_train = pd.get_dummies(data_train_1['Embarked'], drop_first=True)\n",
    "embarked_dummies_test = pd.get_dummies(data_test_1['Embarked'], drop_first=True)\n",
    "\n",
    "data_train_2 = pd.concat([embarked_dummies_train,data_train_1],axis=1)\n",
    "data_test_2 = pd.concat([embarked_dummies_test,data_test_1],axis=1)\n",
    "\n",
    "data_train_2 = data_train_2.drop(['Embarked'], axis =1 )\n",
    "data_test_2 = data_test_2.drop(['Embarked'], axis =1 )"
   ]
  },
  {
   "cell_type": "code",
   "execution_count": 22,
   "metadata": {
    "ExecuteTime": {
     "end_time": "2020-12-20T20:00:56.427356Z",
     "start_time": "2020-12-20T20:00:55.471906Z"
    },
    "scrolled": true
   },
   "outputs": [],
   "source": [
    "from sklearn.preprocessing import StandardScaler\n",
    "\n",
    "scaler = StandardScaler()\n",
    "\n",
    "columns_to_apply = ['Age']\n",
    "data_train_2[columns_to_apply] = scaler.fit_transform(data_train_2[columns_to_apply])\n",
    "data_test_2[columns_to_apply] = scaler.fit_transform(data_test_2[columns_to_apply])"
   ]
  },
  {
   "cell_type": "markdown",
   "metadata": {},
   "source": [
    "Now that our data is encoded, we may perform a check reagarding multicolinearity"
   ]
  },
  {
   "cell_type": "code",
   "execution_count": 23,
   "metadata": {
    "ExecuteTime": {
     "end_time": "2020-12-20T20:00:56.563591Z",
     "start_time": "2020-12-20T20:00:56.434208Z"
    },
    "scrolled": false
   },
   "outputs": [
    {
     "data": {
      "text/html": [
       "<div>\n",
       "<style scoped>\n",
       "    .dataframe tbody tr th:only-of-type {\n",
       "        vertical-align: middle;\n",
       "    }\n",
       "\n",
       "    .dataframe tbody tr th {\n",
       "        vertical-align: top;\n",
       "    }\n",
       "\n",
       "    .dataframe thead th {\n",
       "        text-align: right;\n",
       "    }\n",
       "</style>\n",
       "<table border=\"1\" class=\"dataframe\">\n",
       "  <thead>\n",
       "    <tr style=\"text-align: right;\">\n",
       "      <th></th>\n",
       "      <th>VIF</th>\n",
       "      <th>Features</th>\n",
       "    </tr>\n",
       "  </thead>\n",
       "  <tbody>\n",
       "    <tr>\n",
       "      <th>0</th>\n",
       "      <td>1.592533</td>\n",
       "      <td>Q</td>\n",
       "    </tr>\n",
       "    <tr>\n",
       "      <th>1</th>\n",
       "      <td>4.481140</td>\n",
       "      <td>S</td>\n",
       "    </tr>\n",
       "    <tr>\n",
       "      <th>2</th>\n",
       "      <td>6.338365</td>\n",
       "      <td>Pclass</td>\n",
       "    </tr>\n",
       "    <tr>\n",
       "      <th>3</th>\n",
       "      <td>3.020251</td>\n",
       "      <td>Sex</td>\n",
       "    </tr>\n",
       "    <tr>\n",
       "      <th>4</th>\n",
       "      <td>1.127247</td>\n",
       "      <td>Age</td>\n",
       "    </tr>\n",
       "    <tr>\n",
       "      <th>5</th>\n",
       "      <td>1.555475</td>\n",
       "      <td>SibSp</td>\n",
       "    </tr>\n",
       "    <tr>\n",
       "      <th>6</th>\n",
       "      <td>1.631448</td>\n",
       "      <td>Parch</td>\n",
       "    </tr>\n",
       "    <tr>\n",
       "      <th>7</th>\n",
       "      <td>1.368403</td>\n",
       "      <td>Fare</td>\n",
       "    </tr>\n",
       "  </tbody>\n",
       "</table>\n",
       "</div>"
      ],
      "text/plain": [
       "        VIF Features\n",
       "0  1.592533        Q\n",
       "1  4.481140        S\n",
       "2  6.338365   Pclass\n",
       "3  3.020251      Sex\n",
       "4  1.127247      Age\n",
       "5  1.555475    SibSp\n",
       "6  1.631448    Parch\n",
       "7  1.368403     Fare"
      ]
     },
     "execution_count": 23,
     "metadata": {},
     "output_type": "execute_result"
    }
   ],
   "source": [
    "from statsmodels.stats.outliers_influence import variance_inflation_factor\n",
    "variables = data_train_2[['Q', 'S', 'Pclass', 'Sex', 'Age', 'SibSp', 'Parch', 'Fare']]\n",
    "vif = pd.DataFrame()\n",
    "vif['VIF'] = [variance_inflation_factor(variables.values, i) for i in range(variables.shape[1])]\n",
    "vif['Features'] = variables.columns\n",
    "vif"
   ]
  },
  {
   "cell_type": "markdown",
   "metadata": {},
   "source": [
    "It doesn't seem like there's an issue with multicolinearity, since the VIF is lower than 5 for almost all variables, which is also a conservative value."
   ]
  },
  {
   "cell_type": "markdown",
   "metadata": {},
   "source": [
    "## Building the model"
   ]
  },
  {
   "cell_type": "code",
   "execution_count": 24,
   "metadata": {
    "ExecuteTime": {
     "end_time": "2020-12-20T20:00:56.575590Z",
     "start_time": "2020-12-20T20:00:56.566593Z"
    }
   },
   "outputs": [],
   "source": [
    "train_inputs = data_train_2.iloc[:,:-1]\n",
    "train_targets = data_train_2.iloc[:,-1]\n",
    "\n",
    "test_inputs = data_test_2.copy()"
   ]
  },
  {
   "cell_type": "code",
   "execution_count": 25,
   "metadata": {
    "ExecuteTime": {
     "end_time": "2020-12-20T20:00:56.754593Z",
     "start_time": "2020-12-20T20:00:56.578594Z"
    }
   },
   "outputs": [
    {
     "name": "stderr",
     "output_type": "stream",
     "text": [
      "C:\\Users\\Bernardo\\Documents\\anaconda3\\lib\\site-packages\\sklearn\\linear_model\\_logistic.py:762: ConvergenceWarning: lbfgs failed to converge (status=1):\n",
      "STOP: TOTAL NO. of ITERATIONS REACHED LIMIT.\n",
      "\n",
      "Increase the number of iterations (max_iter) or scale the data as shown in:\n",
      "    https://scikit-learn.org/stable/modules/preprocessing.html\n",
      "Please also refer to the documentation for alternative solver options:\n",
      "    https://scikit-learn.org/stable/modules/linear_model.html#logistic-regression\n",
      "  n_iter_i = _check_optimize_result(\n"
     ]
    },
    {
     "data": {
      "text/plain": [
       "LogisticRegression()"
      ]
     },
     "execution_count": 25,
     "metadata": {},
     "output_type": "execute_result"
    }
   ],
   "source": [
    "from sklearn.linear_model import LogisticRegression\n",
    "reg = LogisticRegression()\n",
    "reg.fit(train_inputs,train_targets)"
   ]
  },
  {
   "cell_type": "code",
   "execution_count": 26,
   "metadata": {
    "ExecuteTime": {
     "end_time": "2020-12-20T20:00:56.769591Z",
     "start_time": "2020-12-20T20:00:56.757593Z"
    }
   },
   "outputs": [],
   "source": [
    "y_pred = reg.predict(train_inputs)"
   ]
  },
  {
   "cell_type": "code",
   "execution_count": 27,
   "metadata": {
    "ExecuteTime": {
     "end_time": "2020-12-20T20:00:56.785590Z",
     "start_time": "2020-12-20T20:00:56.772593Z"
    }
   },
   "outputs": [
    {
     "data": {
      "text/plain": [
       "0.8020247469066367"
      ]
     },
     "execution_count": 27,
     "metadata": {},
     "output_type": "execute_result"
    }
   ],
   "source": [
    "reg.score(train_inputs,train_targets)"
   ]
  },
  {
   "cell_type": "markdown",
   "metadata": {},
   "source": [
    "## Test"
   ]
  },
  {
   "cell_type": "markdown",
   "metadata": {},
   "source": [
    "The final part is to prepare a submission file to be uploaded to the Kaggle Titanic Competition Website, which returns a score for the test dataset provided and our predictions. \n",
    "\n",
    "The current model has achieved a test accuracy of 0.76794. The next step would be experiment with other regression models and try to improve this value. "
   ]
  },
  {
   "cell_type": "code",
   "execution_count": 28,
   "metadata": {
    "ExecuteTime": {
     "end_time": "2020-12-20T20:00:56.800592Z",
     "start_time": "2020-12-20T20:00:56.788592Z"
    }
   },
   "outputs": [],
   "source": [
    "y_pred_test =  reg.predict(test_inputs)"
   ]
  },
  {
   "cell_type": "code",
   "execution_count": 29,
   "metadata": {
    "ExecuteTime": {
     "end_time": "2020-12-20T20:04:15.773867Z",
     "start_time": "2020-12-20T20:04:15.760119Z"
    }
   },
   "outputs": [],
   "source": [
    "survivor_test = pd.DataFrame(y_pred_test)\n",
    "submission = pd.concat([data_test_raw['PassengerId'],survivor_test], axis= 1)"
   ]
  },
  {
   "cell_type": "code",
   "execution_count": 30,
   "metadata": {
    "ExecuteTime": {
     "end_time": "2020-12-20T20:26:55.276000Z",
     "start_time": "2020-12-20T20:26:55.267412Z"
    }
   },
   "outputs": [],
   "source": [
    "header = ['PassengerID', 'Survived']\n",
    "submission.to_csv('submission.csv', index=False, header=header)"
   ]
  }
 ],
 "metadata": {
  "colab": {
   "authorship_tag": "ABX9TyPzMKaR31azNKU7/UO+jVQV",
   "mount_file_id": "174rjuwRABlX6aSuxdpo1jKyFjbLPo2Xz",
   "name": "Titanic.ipynb",
   "provenance": []
  },
  "kernelspec": {
   "display_name": "Python 3",
   "language": "python",
   "name": "python3"
  },
  "language_info": {
   "codemirror_mode": {
    "name": "ipython",
    "version": 3
   },
   "file_extension": ".py",
   "mimetype": "text/x-python",
   "name": "python",
   "nbconvert_exporter": "python",
   "pygments_lexer": "ipython3",
   "version": "3.8.5"
  },
  "toc": {
   "base_numbering": 1,
   "nav_menu": {},
   "number_sections": true,
   "sideBar": true,
   "skip_h1_title": false,
   "title_cell": "Table of Contents",
   "title_sidebar": "Contents",
   "toc_cell": false,
   "toc_position": {},
   "toc_section_display": true,
   "toc_window_display": false
  }
 },
 "nbformat": 4,
 "nbformat_minor": 1
}
